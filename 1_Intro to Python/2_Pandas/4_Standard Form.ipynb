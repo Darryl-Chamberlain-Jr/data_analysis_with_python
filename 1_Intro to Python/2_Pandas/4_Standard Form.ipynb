{
 "cells": [
  {
   "cell_type": "markdown",
   "id": "100418a7",
   "metadata": {},
   "source": [
    "# Standardization"
   ]
  },
  {
   "cell_type": "markdown",
   "id": "2c4b795a",
   "metadata": {},
   "source": [
    "When working with dataframes, we want to make sure all data is saved in a particular way -- this is referred to as *standardization*. Standard formats for data are necessary when combining or analyzing data. \n",
    "\n",
    "For example, consider the date 12/10/11. Is this date:\n",
    "- December 10, 2011 (MONTH/DAY/20YEAR)\n",
    "- December 10, 1911 (MONTH/DAY/19YEAR)\n",
    "- October 12, 2011  (DAY/MONTH/20YEAR)\n",
    "- October 12, 1911  (DAY/MONTH/19YEAR)\n",
    "- October 11, 2012  (20YEAR/MONTH/DAY)\n",
    "\n",
    "We wouldn't know without defining a standard beforehand. "
   ]
  },
  {
   "cell_type": "markdown",
   "id": "68086953",
   "metadata": {},
   "source": [
    "EXAMPLE WITH JUST SPLIT AND REPLACE, NO REGEX"
   ]
  },
  {
   "cell_type": "markdown",
   "id": "7b835c9c",
   "metadata": {},
   "source": [
    "# Regex"
   ]
  },
  {
   "cell_type": "markdown",
   "id": "1e1046c3",
   "metadata": {},
   "source": [
    "**Regex** or **reg**ular **ex**pressions is an incredibly useful Python library for manipulating data to conform to a standard. First we'll look at a list of days that we want to convert into MONTH/DAY/YEAR format and NOT use regex. \n",
    "\n",
    "And rather than type out a bunch of dates, let's create some random data."
   ]
  },
  {
   "cell_type": "code",
   "execution_count": null,
   "id": "8d7ae53d",
   "metadata": {},
   "outputs": [],
   "source": [
    "from numpy import random # needed for random. functions\n",
    "\n",
    "# List of dicts with month and the month number\n",
    "day_months_31 = ['January', 'March', 'May', 'July', \n",
    "                 'August', 'October', 'December']\n",
    "day_months_30 = ['April', 'June', 'September', 'November']\n",
    "day_months_28 = ['February'] # Ignoring leap years\n",
    "list_of_dict_months = day_months_31 + day_months_30 + day_months_28\n",
    "\n",
    "# define a function that creates a random date\n",
    "def random_date():\n",
    "    month = list_of_dict_months[random.randint(0,12)]\n",
    "    # ensures the month has the correct number of days\n",
    "    if month in day_months_31:\n",
    "        day = random.randint(1, 32)\n",
    "    elif month in day_months_30:\n",
    "        day = random.randint(1, 31)\n",
    "    else:\n",
    "        day = random.randint(1, 29)\n",
    "    year = random.randint(1900, 2024)\n",
    "    return f'{month} {day}, {year}'\n",
    "    \n",
    "# initialize empty list\n",
    "list_of_dates = []\n",
    "\n",
    "# Create a list of 1000 dates\n",
    "while len(list_of_dates) < 1000:\n",
    "    list_of_dates.append(random_date())"
   ]
  },
  {
   "cell_type": "code",
   "execution_count": null,
   "id": "c7d4d921",
   "metadata": {},
   "outputs": [],
   "source": [
    "# After running the previous cell, we have a random list called\n",
    "list_of_dates"
   ]
  },
  {
   "cell_type": "code",
   "execution_count": null,
   "id": "03ec98f5",
   "metadata": {},
   "outputs": [],
   "source": [
    "# Create dictionary of months and associated number\n",
    "months_in_order = ['January', 'February', 'March', 'April', \n",
    "                       'May', 'June', 'July', 'August', \n",
    "                       'September', 'October', 'November', 'December']\n",
    "dict_of_months = {}\n",
    "    \n",
    "for index in range(1, 13): # remember range does not include the last value\n",
    "    # This adds a key (Month name) and an associated value (Month number)\n",
    "    dict_of_months[months_in_order[index-1]] = index\n",
    "\n",
    "def clean_date(date):\n",
    "    # str.split(pattern) splits the str by the pattern\n",
    "    # our code below splits by an empty space\n",
    "    list_of_strings = date.split(' ')\n",
    "    # After split, list is ['raw_month', 'day,' , 'year']\n",
    "    \n",
    "    # Remember list index starts at 0\n",
    "    raw_month = list_of_strings[0]\n",
    "    \n",
    "    # Since the day has an extra comma, we can do .replace to replace commas with nothing, which deletes the comma\n",
    "    raw_day = list_of_strings[1].replace(',', '')\n",
    "    \n",
    "    raw_year = list_of_strings[2]\n",
    "    \n",
    "    # Uses the dictionary to convert from month to associated number\n",
    "    month_number = dict_of_months[raw_month]\n",
    "    \n",
    "    return f'{month_number}/{raw_day}/{raw_year}'"
   ]
  },
  {
   "cell_type": "code",
   "execution_count": null,
   "id": "557f0b00",
   "metadata": {},
   "outputs": [],
   "source": [
    "converted_list_of_dates = []\n",
    "for date in list_of_dates:\n",
    "    converted_list_of_dates.append(clean_date(date))\n",
    "\n",
    "print(converted_list_of_dates)"
   ]
  },
  {
   "cell_type": "markdown",
   "id": "f2aac48d",
   "metadata": {},
   "source": [
    "We converted from written form to a short hand. What if we wanted to convert back? We can't just rely on the location since some days/months are a single digit while others are two digits. We can use regex for this! See if you can convert the date from the short form to long form. *Hint: What could we split each string by to separate the month, day, and year?*"
   ]
  },
  {
   "cell_type": "markdown",
   "id": "b69a3b23",
   "metadata": {},
   "source": [
    "## Regex pattern matching"
   ]
  },
  {
   "cell_type": "markdown",
   "id": "4245ec43",
   "metadata": {},
   "source": [
    "Regex excels at pattern matching. Let's take our previous example and, rather than split the text, use matching."
   ]
  },
  {
   "cell_type": "code",
   "execution_count": null,
   "id": "a2c57a26",
   "metadata": {},
   "outputs": [],
   "source": [
    "import re\n",
    "\n",
    "converted_list_of_dates = []\n",
    "\n",
    "# Using parentheses groups chunks of string together as a \"group\"\n",
    "    # This is how we defined group(1), group(2), group(3)\n",
    "# .+ means one or more occurances of any character\n",
    "# \\s means a white space\n",
    "# , is just a comma is not special here\n",
    "# This effective searches for the following groups\n",
    "    # (group 1) (group 2), (group 3)\n",
    "    # Month Day, Year\n",
    "pattern_to_match = '(.+)\\s(.+),\\s(.+)'\n",
    "\n",
    "def regex_convert(date):\n",
    "    temp_match_object = re.search(pattern_to_match, date)\n",
    "    \n",
    "    raw_month = temp_match_object.group(1)\n",
    "    day = temp_match_object.group(2)\n",
    "    year = temp_match_object.group(3)\n",
    "    \n",
    "    month_number = dict_of_months[raw_month]\n",
    "    \n",
    "    short_date = f'{month_number}/{day}/{year}'\n",
    "    return short_date"
   ]
  },
  {
   "cell_type": "code",
   "execution_count": null,
   "id": "0f9eeb3c",
   "metadata": {},
   "outputs": [],
   "source": [
    "for date in list_of_dates:\n",
    "    short_date = regex_convert(date)\n",
    "    converted_list_of_dates.append(short_date)\n",
    "\n",
    "print(converted_list_of_dates)"
   ]
  },
  {
   "cell_type": "markdown",
   "id": "15cc3ac5",
   "metadata": {},
   "source": [
    "Regex can be unintuitive but can be an incredible tool for advanced data cleaning. In this course, you will not _need_ to use regex but it can make life a little easier. "
   ]
  },
  {
   "cell_type": "markdown",
   "id": "f935aa9f",
   "metadata": {},
   "source": [
    "# dataframe.apply "
   ]
  },
  {
   "cell_type": "markdown",
   "id": "28786090",
   "metadata": {},
   "source": [
    "One of the most important functions you can use on a dataframe is the .apply function. This allows you to use some function you define on an entire column or an entire dataframe! It is also faster than iterating through every single row (but we won't get into the weeds of why it is faster). Let's see an example to check it out in action."
   ]
  },
  {
   "cell_type": "code",
   "execution_count": null,
   "id": "26cfcf2d",
   "metadata": {},
   "outputs": [],
   "source": [
    "import numpy\n",
    "import pandas\n",
    "\n",
    "# We are going to use this cell just to load the dataframe\n",
    "# That way, running the code in other cells will be quick since we don't have to re-load the dataframe\n",
    "dataframe = pandas.read_excel(\"all_data_M_2022.xlsx\")"
   ]
  },
  {
   "cell_type": "code",
   "execution_count": null,
   "id": "49e6b0a4",
   "metadata": {},
   "outputs": [],
   "source": [
    "def add_a_dollar_sign(integer):\n",
    "    new_text = f'${integer}'\n",
    "    return new_text\n",
    "\n",
    "# We want to create a new dataframe that we will modify \n",
    "# and leave the original one alone\n",
    "new_dataframe = dataframe \n",
    "\n",
    "# We want to modify the 'H_MEDIAN' column to add a dollar sign\n",
    "new_dataframe['H_MEDIAN'] = dataframe['H_MEDIAN'].apply(add_a_dollar_sign)\n",
    "new_dataframe.head()"
   ]
  },
  {
   "cell_type": "markdown",
   "id": "397b9ea4",
   "metadata": {},
   "source": [
    "Let's combine both lessons into one. "
   ]
  },
  {
   "cell_type": "code",
   "execution_count": null,
   "id": "e0a3dc30",
   "metadata": {},
   "outputs": [],
   "source": [
    "# Create dataframe with a column of long dates\n",
    "date_df = pandas.DataFrame(list_of_dates, columns=['Long Date'])\n",
    "\n",
    "# Create a new column of short dates by applying our regex_convert function to the Long Date column\n",
    "date_df['Short Date'] = date_df['Long Date'].apply(regex_convert)\n",
    "\n",
    "date_df.head()"
   ]
  },
  {
   "cell_type": "markdown",
   "id": "3fb9b9a7",
   "metadata": {},
   "source": [
    "## Recap\n",
    "Let's recap some new things we did as we learned about regex and dataframe.apply\n",
    "- Splitting code between blocks for clarity\n",
    "- Importing libraries at the top or near top of cell\n",
    "- Creating a function that can be used in multiple cells\n",
    "- Loading a dataframe once in a separate cell\n",
    "- Copying the raw dataframe before making changes"
   ]
  }
 ],
 "metadata": {
  "kernelspec": {
   "display_name": "Python 3 (ipykernel)",
   "language": "python",
   "name": "python3"
  },
  "language_info": {
   "codemirror_mode": {
    "name": "ipython",
    "version": 3
   },
   "file_extension": ".py",
   "mimetype": "text/x-python",
   "name": "python",
   "nbconvert_exporter": "python",
   "pygments_lexer": "ipython3",
   "version": "3.11.3"
  }
 },
 "nbformat": 4,
 "nbformat_minor": 5
}
