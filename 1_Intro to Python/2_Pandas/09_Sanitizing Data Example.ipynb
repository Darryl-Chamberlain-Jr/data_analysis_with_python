{
 "cells": [
  {
   "cell_type": "markdown",
   "id": "4244c01f",
   "metadata": {},
   "source": [
    "# Sanitizing Data\n",
    "\n",
    "Sanitizing data refers to modifying data for display use or for analysis use. A necessary component of data sanitation  is ensuring data is in the expected format and type. A common joke with data sanitation is a user input that deletes the entire database. See this XKCD comic for an example: https://xkcd.com/327/. \n",
    "\n",
    "While the data we work with in this course will not be as \"dangerous\" as a potential response that deletes our dataframe, we will need to navigate around missing data as well as improper data format and/or type. We return to our Occupational Employment and Wage Statistics file to consider what type of sanitation might be needed."
   ]
  },
  {
   "cell_type": "code",
   "execution_count": 3,
   "id": "f3ae31a1",
   "metadata": {},
   "outputs": [],
   "source": [
    "import numpy as np\n",
    "import pandas as pd\n",
    "\n",
    "# For this example, I downloaded May 2022 data\n",
    "# This will take 1-2 minutes as there are 400,000+ rows of data!\n",
    "dataframe = pd.read_excel(\"../Datasets/all_data_M_2022.xlsx\")"
   ]
  },
  {
   "cell_type": "code",
   "execution_count": null,
   "id": "21209427",
   "metadata": {},
   "outputs": [],
   "source": [
    "dataframe"
   ]
  },
  {
   "cell_type": "markdown",
   "id": "9df40ba5",
   "metadata": {},
   "source": [
    "Let's focus on what we might need to do in the following columns:\n",
    "\n",
    "    ['H_MEAN', 'A_MEAN', 'MEAN_PRSE', 'H_PCT10', \n",
    "    'H_PCT25', 'H_MEDIAN', 'H_PCT75', 'H_PCT90', \n",
    "    'A_PCT10', 'A_PCT25', 'A_MEDIAN', 'A_PCT75', \n",
    "    'A_PCT90']\n",
    "    \n",
    "**Some things to consider:**\n",
    "- If we want to do statistics like mean or median, we'll need this data to be a number type like integer or float.\n",
    "- Python does not understand commas in numbers like 61,900 and these will need to be removed.\n",
    "- '*' and '#' are not numbers and will need to be changed. Does replacing them with 0 make sense or do we need to do something else?"
   ]
  },
  {
   "cell_type": "code",
   "execution_count": 5,
   "id": "86e784ce",
   "metadata": {},
   "outputs": [],
   "source": [
    "columns_to_modify = ['H_MEAN', 'A_MEAN', 'MEAN_PRSE', 'H_PCT10', \n",
    "                     'H_PCT25', 'H_MEDIAN', 'H_PCT75', 'H_PCT90', \n",
    "                     'A_PCT10', 'A_PCT25', 'A_MEDIAN', 'A_PCT75', \n",
    "                     'A_PCT90'\n",
    "                    ]\n",
    "\n",
    "# Splits columns by number type wanted\n",
    "int_columns = ['A_MEAN', 'A_PCT10', 'A_PCT25', 'A_MEDIAN', 'A_PCT75', 'A_PCT90']\n",
    "float_columns = ['H_MEAN', 'MEAN_PRSE', 'H_PCT10', 'H_PCT25', 'H_MEDIAN', 'H_PCT75', 'H_PCT90']\n",
    "\n",
    "# Initialize dict of column and its type\n",
    "dict_column_and_type = {}\n",
    "\n",
    "# Attach column name with the data type\n",
    "for column_name in columns_to_modify:\n",
    "    if column_name in int_columns:\n",
    "        # 'Int64' is needed when mixing ints with pandas.NA\n",
    "        dict_column_and_type[column_name] = 'Int64'\n",
    "    else:\n",
    "        # 'Float64' is needed when mixing floats with pandas.NA\n",
    "        dict_column_and_type[column_name] = 'Float64'"
   ]
  },
  {
   "cell_type": "code",
   "execution_count": null,
   "id": "c6f18274",
   "metadata": {},
   "outputs": [],
   "source": [
    "dict_column_and_type"
   ]
  },
  {
   "cell_type": "code",
   "execution_count": 6,
   "id": "a0d2db16",
   "metadata": {},
   "outputs": [],
   "source": [
    "# To use .apply, we want the input of the definition to be the value in the table\n",
    "def remove_commas(text):\n",
    "    return text.replace(\",\", \"\")\n",
    "\n",
    "def replace_symbols(text):\n",
    "    # pd.NA is Not a Number\n",
    "    new_text = text.replace(\"*\", pd.NA)\n",
    "    new_text = new_text.replace(\"#\", pd.NA) # Notice we are modifying our new_text variable\n",
    "    new_text = new_text.replace(np.nan, pd.NA) # Notice we are AGAIN modifying our new_text variable\n",
    "    # While RegEx could have done this all in a single step, it was easy to make a few .replace() statements to achieve the same purpose\n",
    "    return new_text"
   ]
  },
  {
   "cell_type": "code",
   "execution_count": 7,
   "id": "b9f4d783",
   "metadata": {},
   "outputs": [],
   "source": [
    "# Initialize our sanitized dataframe\n",
    "sanitized_df = dataframe.copy()\n",
    "\n",
    "# Apply our two functions\n",
    "sanitized_df[columns_to_modify] = sanitized_df[columns_to_modify].apply(remove_commas)\n",
    "sanitized_df[columns_to_modify] = sanitized_df[columns_to_modify].apply(replace_symbols)\n",
    "\n",
    "# Using the dictonary, we cast each column as its associated data type\n",
    "sanitized_df = sanitized_df.astype(dict_column_and_type)"
   ]
  },
  {
   "cell_type": "code",
   "execution_count": null,
   "id": "c595b2e4",
   "metadata": {},
   "outputs": [],
   "source": [
    "sanitized_df[columns_to_modify].head(20)"
   ]
  }
 ],
 "metadata": {
  "kernelspec": {
   "display_name": "Python 3",
   "language": "python",
   "name": "python3"
  },
  "language_info": {
   "codemirror_mode": {
    "name": "ipython",
    "version": 3
   },
   "file_extension": ".py",
   "mimetype": "text/x-python",
   "name": "python",
   "nbconvert_exporter": "python",
   "pygments_lexer": "ipython3",
   "version": "3.12.7"
  }
 },
 "nbformat": 4,
 "nbformat_minor": 5
}
