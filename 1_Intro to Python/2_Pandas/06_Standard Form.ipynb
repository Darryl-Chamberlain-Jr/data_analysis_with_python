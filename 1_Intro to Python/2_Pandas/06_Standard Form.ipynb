{
 "cells": [
  {
   "cell_type": "markdown",
   "id": "100418a7",
   "metadata": {},
   "source": [
    "# Standardization"
   ]
  },
  {
   "cell_type": "markdown",
   "id": "2c4b795a",
   "metadata": {},
   "source": [
    "When working with dataframes, we want to make sure all data is saved in a particular way -- this is referred to as *standardization*. Standard formats for data are necessary when combining or analyzing data. \n",
    "\n",
    "For example, consider the date 12/10/11. Is this date:\n",
    "- December 10, 2011 (MONTH/DAY/20YEAR)\n",
    "- December 10, 1911 (MONTH/DAY/19YEAR)\n",
    "- October 12, 2011  (DAY/MONTH/20YEAR)\n",
    "- October 12, 1911  (DAY/MONTH/19YEAR)\n",
    "- October 11, 2012  (20YEAR/MONTH/DAY)\n",
    "\n",
    "We wouldn't know without defining a standard beforehand. "
   ]
  },
  {
   "cell_type": "markdown",
   "id": "1e1046c3",
   "metadata": {},
   "source": [
    "Rather than type out a bunch of dates, let's create some random data."
   ]
  },
  {
   "cell_type": "code",
   "execution_count": 2,
   "id": "8d7ae53d",
   "metadata": {},
   "outputs": [],
   "source": [
    "from numpy import random # needed for random. functions\n",
    "\n",
    "# List of dicts with month and the month number\n",
    "day_months_31 = ['January', 'March', 'May', 'July', \n",
    "                 'August', 'October', 'December']\n",
    "day_months_30 = ['April', 'June', 'September', 'November']\n",
    "day_months_28 = ['February'] # Ignoring leap years\n",
    "list_of_dict_months = day_months_31 + day_months_30 + day_months_28\n",
    "\n",
    "# define a function that creates a random date\n",
    "def random_date():\n",
    "    month = list_of_dict_months[random.randint(0,12)]\n",
    "    # ensures the month has the correct number of days\n",
    "    if month in day_months_31:\n",
    "        day = random.randint(1, 32)\n",
    "    elif month in day_months_30:\n",
    "        day = random.randint(1, 31)\n",
    "    else:\n",
    "        day = random.randint(1, 29)\n",
    "    year = random.randint(1900, 2024)\n",
    "    return f'{month} {day}, {year}'\n",
    "    \n",
    "# initialize empty list\n",
    "list_of_dates = []\n",
    "\n",
    "# Create a list of 1000 dates\n",
    "while len(list_of_dates) < 1000:\n",
    "    list_of_dates.append(random_date())"
   ]
  },
  {
   "cell_type": "code",
   "execution_count": null,
   "id": "c7d4d921",
   "metadata": {},
   "outputs": [],
   "source": [
    "# After running the previous cell, we have a random list called\n",
    "list_of_dates"
   ]
  },
  {
   "cell_type": "markdown",
   "id": "db84782d",
   "metadata": {},
   "source": [
    "# Standardizing with split() and replace()"
   ]
  },
  {
   "cell_type": "code",
   "execution_count": 1,
   "id": "03ec98f5",
   "metadata": {},
   "outputs": [],
   "source": [
    "# Create dictionary of months and associated number\n",
    "months_in_order = ['January', 'February', 'March', 'April', \n",
    "                       'May', 'June', 'July', 'August', \n",
    "                       'September', 'October', 'November', 'December']\n",
    "dict_of_months = {} # As we saw before, dictionaries are basically sets where each element has an associated key, so we start by defining an empty set that we will populate\n",
    "    \n",
    "for index in range(1, 13): # remember range does not include the last value\n",
    "    # This adds a key (Month name) and an associated value (Month number)\n",
    "    dict_of_months[months_in_order[index-1]] = index\n",
    "\n",
    "def clean_date(date):\n",
    "    # str.split(pattern) splits the str by the pattern\n",
    "    # our code below splits by an empty space\n",
    "    list_of_strings = date.split(' ')\n",
    "    # After split, list is ['raw_month', 'day,' , 'year']\n",
    "    \n",
    "    # Remember list index starts at 0\n",
    "    raw_month = list_of_strings[0]\n",
    "    \n",
    "    # Since the day has an extra comma, we can do .replace to replace commas with nothing, which deletes the comma\n",
    "    raw_day = list_of_strings[1].replace(',', '')\n",
    "    raw_year = list_of_strings[2]\n",
    "    \n",
    "    # Uses the dictionary to convert from month to associated number\n",
    "    month_number = dict_of_months[raw_month]\n",
    "    \n",
    "    return f'{month_number}/{raw_day}/{raw_year}'"
   ]
  },
  {
   "cell_type": "code",
   "execution_count": null,
   "id": "557f0b00",
   "metadata": {},
   "outputs": [],
   "source": [
    "converted_list_of_dates = []\n",
    "for date in list_of_dates:\n",
    "    converted_list_of_dates.append(clean_date(date))\n",
    "\n",
    "print(converted_list_of_dates)"
   ]
  },
  {
   "cell_type": "markdown",
   "id": "f2aac48d",
   "metadata": {},
   "source": [
    "We converted from written form to a short hand. What if we wanted to convert back? We could split by '/', then convert the month from a number to the corresponding name."
   ]
  }
 ],
 "metadata": {
  "kernelspec": {
   "display_name": "Python 3",
   "language": "python",
   "name": "python3"
  },
  "language_info": {
   "codemirror_mode": {
    "name": "ipython",
    "version": 3
   },
   "file_extension": ".py",
   "mimetype": "text/x-python",
   "name": "python",
   "nbconvert_exporter": "python",
   "pygments_lexer": "ipython3",
   "version": "3.12.7"
  }
 },
 "nbformat": 4,
 "nbformat_minor": 5
}
