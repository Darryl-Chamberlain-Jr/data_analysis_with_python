{
 "cells": [
  {
   "cell_type": "markdown",
   "id": "7b835c9c",
   "metadata": {},
   "source": [
    "# RegEx"
   ]
  },
  {
   "cell_type": "markdown",
   "id": "1e1046c3",
   "metadata": {},
   "source": [
    "**Regex** or **reg**ular **ex**pressions is an incredibly useful Python library for manipulating data to conform to a standard. RegEx can be **VERY** challenging to learn at first, so do not be surprised if you need to continually look up how to use it. It takes professionals YEARS to become comfortable (if they ever do)!"
   ]
  },
  {
   "cell_type": "markdown",
   "id": "8d49ffe8",
   "metadata": {},
   "source": [
    "## RegEx Metacharacters\n",
    "Metacharacters are characters with special meanings. Some of the most commonly used metacharacters can be found below. \n",
    "\n",
    "**.** | Any character (except a new line character). Think of this as a wildcard character. <br> Example: \"l...s\" would find any 5-character words that start with l and end with s. \n",
    "\n",
    "**\\*** | Zero or more occurances of the previous pattern. <br> Example: \"l.*s\" would find any 2-character or more words that start with l and end with s.\n",
    "\n",
    "**\\+** | One or more occurances of the previous pattern. <br> Example: \"l.+s\" would find any 5-character or more words that start with l and end with s.\n",
    "\n",
    "**?** | Zero or one occurance of the previous pattern. <br> Example: \"l.?.?.?s\" would find any 2, 3, 4, or 5-character words that start wth l and end wth s.\n",
    "\n",
    "**{#}** | Exactly # many occurances of the previous pattern. <br> Example: \"l.{3}s\" is equivalent to \"l...s\"\n",
    "\n",
    "**\\^** | Starts with whatever pattern follows. <br> Example: \"^Thus\" would search for strings that start with the word Thus.\n",
    "\n",
    "**\\$** Ends with whatever pattern came before it. <br> Example: \"\\\\(.*\\\\)$\" would search for strings that end with () where what is in the middle can be of any length."
   ]
  },
  {
   "cell_type": "markdown",
   "id": "b0d328e2",
   "metadata": {},
   "source": [
    "## RegEx Special Sequences\n",
    "Special sequences are used to match some group of characters. Some of the most commonly used special sequences can be found below.\n",
    "- [] - Some set of characters. Example: [amk] will match 'a', 'm', or 'k'. We can also use ranges, such as [a-m] matching letters between a and m individually.\n",
    "- \\d - Matches any decimal digit; this is equivalent to the class [0-9].\n",
    "- \\D - Matches any non-digit character; this is equivalent to the class [^0-9].\n",
    "- \\s - Matches any whitespace character; this is equivalent to the class [ \\t\\n\\r\\f\\v].\n",
    "- \\S - Matches any non-whitespace character; this is equivalent to the class [^ \\t\\n\\r\\f\\v].\n",
    "- \\w - Matches any alphanumeric character; this is equivalent to the class [a-zA-Z0-9_].\n",
    "- \\W - Matches any non-alphanumeric character; this is equivalent to the class [^a-zA-Z0-9_].\n",
    "\n",
    "See https://docs.python.org/3/library/re.html#re-syntax for the entire list."
   ]
  },
  {
   "cell_type": "markdown",
   "id": "ec3dff49",
   "metadata": {},
   "source": [
    "## RegEx functions\n",
    "\n",
    "**re.findall(pattern, text_to_search)** - Returns a list of all matches, in the order they are found. If no matches are found, returns an empty list.\n",
    "\n",
    "**re.search(pattern, text_to_search)** - Returns the *first* match found, ignoring all others.\n",
    "\n",
    "**re.split(pattern, text_to_search)** - Returns a list where the string has been split at each matching pattern. \n",
    "\n",
    "**re.sub(pattern_to_find, new_pattern, text_to_search)** - Returns a new string where any \"pattern_to_find\" are replaced with \"new_pattern\". You can even specify the number of replacements by including a number after text_to_search with **re.sub(pattern_to_find, new_pattern, text_to_search, #)**."
   ]
  },
  {
   "cell_type": "markdown",
   "id": "b69a3b23",
   "metadata": {},
   "source": [
    "## Pattern matching with re.search()"
   ]
  },
  {
   "cell_type": "markdown",
   "id": "4245ec43",
   "metadata": {},
   "source": [
    "Let's take our previous example and, rather than split the text, use matching."
   ]
  },
  {
   "cell_type": "code",
   "execution_count": 1,
   "id": "32756671",
   "metadata": {},
   "outputs": [],
   "source": [
    "from numpy import random # needed for random. functions\n",
    "\n",
    "# List of dicts with month and the month number\n",
    "day_months_31 = ['January', 'March', 'May', 'July', \n",
    "                 'August', 'October', 'December']\n",
    "day_months_30 = ['April', 'June', 'September', 'November']\n",
    "day_months_28 = ['February'] # Ignoring leap years\n",
    "list_of_dict_months = day_months_31 + day_months_30 + day_months_28\n",
    "\n",
    "# define a function that creates a random date\n",
    "def random_date():\n",
    "    month = list_of_dict_months[random.randint(0,12)]\n",
    "    # ensures the month has the correct number of days\n",
    "    if month in day_months_31:\n",
    "        day = random.randint(1, 32)\n",
    "    elif month in day_months_30:\n",
    "        day = random.randint(1, 31)\n",
    "    else:\n",
    "        day = random.randint(1, 29)\n",
    "    year = random.randint(1900, 2024)\n",
    "    return f'{month} {day}, {year}'\n",
    "    \n",
    "# initialize empty list\n",
    "list_of_dates = []\n",
    "\n",
    "# Create a list of 1000 dates\n",
    "while len(list_of_dates) < 1000:\n",
    "    list_of_dates.append(random_date())\n",
    "\n",
    "# Create dictionary of months and associated number\n",
    "months_in_order = ['January', 'February', 'March', 'April', \n",
    "                       'May', 'June', 'July', 'August', \n",
    "                       'September', 'October', 'November', 'December']\n",
    "dict_of_months = {} # As we saw before, dictionaries are basically sets where each element has an associated key, so we start by defining an empty set that we will populate\n",
    "    \n",
    "for index in range(1, 13): # remember range does not include the last value\n",
    "    # This adds a key (Month name) and an associated value (Month number)\n",
    "    dict_of_months[months_in_order[index-1]] = index"
   ]
  },
  {
   "cell_type": "code",
   "execution_count": 4,
   "id": "a2c57a26",
   "metadata": {},
   "outputs": [],
   "source": [
    "import re\n",
    "\n",
    "converted_list_of_dates = []\n",
    "\n",
    "# Using parentheses groups chunks of string together as a \"group\"\n",
    "    # This is how we defined group(1), group(2), group(3)\n",
    "# .+ means one or more occurances of any character\n",
    "# , is just a comma and is not special here\n",
    "# This effectively searches for the following groups\n",
    "    # (group 1) (group 2), (group 3)\n",
    "    # Month Day, Year\n",
    "pattern_to_match = '(.+) (.+), (.+)'\n",
    "\n",
    "def regex_convert(date):\n",
    "    temp_match_object = re.search(pattern_to_match, date) # We know there will be only 1 match, so there is no issue using re.search() here.\n",
    "    \n",
    "    raw_month = temp_match_object.group(1) \n",
    "    day = temp_match_object.group(2)\n",
    "    year = temp_match_object.group(3)\n",
    "    \n",
    "    month_number = dict_of_months[raw_month] # Converting from word to number\n",
    "    \n",
    "    short_date = f'{month_number}/{day}/{year}'\n",
    "    return short_date"
   ]
  },
  {
   "cell_type": "code",
   "execution_count": 1,
   "id": "0f9eeb3c",
   "metadata": {},
   "outputs": [
    {
     "ename": "NameError",
     "evalue": "name 'list_of_dates' is not defined",
     "output_type": "error",
     "traceback": [
      "\u001b[1;31m---------------------------------------------------------------------------\u001b[0m",
      "\u001b[1;31mNameError\u001b[0m                                 Traceback (most recent call last)",
      "Cell \u001b[1;32mIn[1], line 1\u001b[0m\n\u001b[1;32m----> 1\u001b[0m \u001b[38;5;28;01mfor\u001b[39;00m date \u001b[38;5;129;01min\u001b[39;00m \u001b[43mlist_of_dates\u001b[49m:\n\u001b[0;32m      2\u001b[0m     short_date \u001b[38;5;241m=\u001b[39m regex_convert(date)\n\u001b[0;32m      3\u001b[0m     converted_list_of_dates\u001b[38;5;241m.\u001b[39mappend(short_date)\n",
      "\u001b[1;31mNameError\u001b[0m: name 'list_of_dates' is not defined"
     ]
    }
   ],
   "source": [
    "for date in list_of_dates:\n",
    "    short_date = regex_convert(date)\n",
    "    converted_list_of_dates.append(short_date)\n",
    "\n",
    "print(converted_list_of_dates)"
   ]
  },
  {
   "cell_type": "markdown",
   "id": "15cc3ac5",
   "metadata": {},
   "source": [
    "Regex can be unintuitive but can be an incredible tool for advanced data cleaning. In this course, you will not _need_ to use regex but it can make life a little easier. "
   ]
  }
 ],
 "metadata": {
  "kernelspec": {
   "display_name": "Python 3",
   "language": "python",
   "name": "python3"
  },
  "language_info": {
   "codemirror_mode": {
    "name": "ipython",
    "version": 3
   },
   "file_extension": ".py",
   "mimetype": "text/x-python",
   "name": "python",
   "nbconvert_exporter": "python",
   "pygments_lexer": "ipython3",
   "version": "3.12.7"
  }
 },
 "nbformat": 4,
 "nbformat_minor": 5
}
