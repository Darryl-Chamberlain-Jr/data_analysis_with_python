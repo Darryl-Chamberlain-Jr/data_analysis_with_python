{
 "cells": [
  {
   "cell_type": "markdown",
   "id": "100418a7",
   "metadata": {},
   "source": [
    "# Dictionary"
   ]
  },
  {
   "cell_type": "markdown",
   "id": "2c4b795a",
   "metadata": {},
   "source": [
    "An effective way to store detailed information is in the form of a **dictionary**. They are basically a set where each element has some associated tag. For example, let's create a dictionary based on a fake student in the course. "
   ]
  },
  {
   "cell_type": "code",
   "execution_count": 1,
   "id": "09543c63",
   "metadata": {},
   "outputs": [],
   "source": [
    "student_dict = {\n",
    "    'First Name': 'Miroslava',\n",
    "    'Last Name': 'Eimhear',\n",
    "    'Gender': 'Female',\n",
    "    'Age': 33, \n",
    "    'Birth': 'November 28, 1990',\n",
    "    'Degree': 'Engineering',\n",
    "    'Year': 'Junior'\n",
    "}"
   ]
  },
  {
   "cell_type": "markdown",
   "id": "d3ae7fc3",
   "metadata": {},
   "source": [
    "To reference values in a dictionary, we use the stored tag (called a **key**)"
   ]
  },
  {
   "cell_type": "code",
   "execution_count": 3,
   "id": "6a5840c2",
   "metadata": {},
   "outputs": [],
   "source": [
    "first_name=student_dict['First Name']\n",
    "last_name=student_dict['Last Name']"
   ]
  },
  {
   "cell_type": "markdown",
   "id": "456f9bda",
   "metadata": {},
   "source": [
    "Why is this called a dictionary? If we open a dictionary and go to any word, we might have:\n",
    "- The base form of the word\n",
    "- Part of speech\n",
    "- Pronounciation \n",
    "- Meaning\n",
    "- Origin\n",
    "\n",
    "Every single word in the dictionary will have each of these aspects and so it is convinent to save it all together. "
   ]
  },
  {
   "cell_type": "markdown",
   "id": "816c7820",
   "metadata": {},
   "source": [
    "## DataFrame"
   ]
  },
  {
   "cell_type": "markdown",
   "id": "aa34e163",
   "metadata": {},
   "source": [
    "When we import either a csv or xlsx document into Python, it is saved as a DataFrame. We can think of a DataFrame as a list of dictionaries, where each row is a single dictionary and the columns are the keys of the dictionary. In fact, we can build a DataFrame with a list of dictionaries!"
   ]
  },
  {
   "cell_type": "code",
   "execution_count": 17,
   "id": "a18a0692",
   "metadata": {},
   "outputs": [],
   "source": [
    "# Building the same DataFrame from columns and then from rows\n",
    "\n",
    "import pandas as pd\n",
    "\n",
    "df_1 = pd.DataFrame(\n",
    "    {\n",
    "    'col_1': [1, 2], \n",
    "    'col_2': [3, 4], \n",
    "    'col_3': [13, 14]\n",
    "    }\n",
    "    ) # Example from 04_Merging_Files with similar spacing as the dictionaries\n",
    "\n",
    "# Define dictionaries for our list of dictionaries\n",
    "row_0 = {\n",
    "    'col_1': 1,\n",
    "    'col_2': 3,\n",
    "    'col_3': 13\n",
    "    }\n",
    "\n",
    "row_1 = {\n",
    "    'col_1': 2,\n",
    "    'col_2': 4,\n",
    "    'col_3': 14\n",
    "}\n",
    "\n",
    "df_2 = pd.DataFrame([row_0, row_1])"
   ]
  },
  {
   "cell_type": "code",
   "execution_count": null,
   "id": "368f0d76",
   "metadata": {},
   "outputs": [],
   "source": [
    "df_1"
   ]
  },
  {
   "cell_type": "code",
   "execution_count": null,
   "id": "d735c92f",
   "metadata": {},
   "outputs": [],
   "source": [
    "df_2"
   ]
  },
  {
   "cell_type": "markdown",
   "id": "998644c6",
   "metadata": {},
   "source": [
    "We can then call a column of the DataFrame the same way we call a value in a dictionary"
   ]
  },
  {
   "cell_type": "code",
   "execution_count": null,
   "id": "936351f9",
   "metadata": {},
   "outputs": [],
   "source": [
    "df_1['col_2']"
   ]
  },
  {
   "cell_type": "markdown",
   "id": "ec3d9931",
   "metadata": {},
   "source": [
    "Notice this looks like a dictionary (with the index as the key and column value as the associated value) but is called a Series. We can easily convert between a Series and a Dictionary by using .to_dict(). "
   ]
  },
  {
   "cell_type": "code",
   "execution_count": null,
   "id": "53cc2c1a",
   "metadata": {},
   "outputs": [],
   "source": [
    "series_example = df_1['col_2']\n",
    "col_2_dict = series_example.to_dict()\n",
    "print(col_2_dict)"
   ]
  },
  {
   "cell_type": "markdown",
   "id": "17d57725",
   "metadata": {},
   "source": [
    "We can just as easily convert from a Dictionary to a Series with pd.Series()."
   ]
  },
  {
   "cell_type": "code",
   "execution_count": null,
   "id": "c3e0c202",
   "metadata": {},
   "outputs": [],
   "source": [
    "col_2_series = pd.Series(col_2_dict)\n",
    "#col_2_series = pd.Series(col_2_dict, name='col_2') # We can specify the name of the series with an optonal parameter\n",
    "print(col_2_series)"
   ]
  }
 ],
 "metadata": {
  "kernelspec": {
   "display_name": "Python 3",
   "language": "python",
   "name": "python3"
  },
  "language_info": {
   "codemirror_mode": {
    "name": "ipython",
    "version": 3
   },
   "file_extension": ".py",
   "mimetype": "text/x-python",
   "name": "python",
   "nbconvert_exporter": "python",
   "pygments_lexer": "ipython3",
   "version": "3.12.7"
  }
 },
 "nbformat": 4,
 "nbformat_minor": 5
}
