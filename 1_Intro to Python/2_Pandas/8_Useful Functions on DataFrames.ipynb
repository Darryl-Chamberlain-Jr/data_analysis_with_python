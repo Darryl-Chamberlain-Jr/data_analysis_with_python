{
 "cells": [
  {
   "cell_type": "markdown",
   "id": "4244c01f",
   "metadata": {},
   "source": [
    "# Sanitizing Data\n",
    "\n",
    "Sanitizing data refers to modifying data for display use or for analysis use. A necessary component of data sanitation  is ensuring data is in the expected format and type. A common joke with data sanitation is a user input that deletes the entire database. See this XKCD comic for an example: https://xkcd.com/327/. \n",
    "\n",
    "While the data we work with in this course will not be as \"dangerous\" as a potential response that deletes our dataframe, we will need to navigate around missing data as well as improper data format and/or type. We return to our Occupational Employment and Wage Statistics file to consider what type of sanitation might be needed."
   ]
  },
  {
   "cell_type": "code",
   "execution_count": null,
   "id": "f3ae31a1",
   "metadata": {},
   "outputs": [],
   "source": [
    "import numpy\n",
    "import pandas\n",
    "\n",
    "# For this example, I downloaded May 2022 data\n",
    "# This will take 1-2 minutes as there are 400,000+ rows of data!\n",
    "dataframe = pandas.read_excel(\"all_data_M_2022.xlsx\")"
   ]
  },
  {
   "cell_type": "code",
   "execution_count": null,
   "id": "21209427",
   "metadata": {},
   "outputs": [],
   "source": [
    "dataframe"
   ]
  },
  {
   "cell_type": "markdown",
   "id": "9df40ba5",
   "metadata": {},
   "source": [
    "Let's focus on what we might need to do in the following columns:\n",
    "\n",
    "    ['H_MEAN', 'A_MEAN', 'MEAN_PRSE', 'H_PCT10', \n",
    "    'H_PCT25', 'H_MEDIAN', 'H_PCT75', 'H_PCT90', \n",
    "    'A_PCT10', 'A_PCT25', 'A_MEDIAN', 'A_PCT75', \n",
    "    'A_PCT90']\n",
    "    \n",
    "**Some things to consider:**\n",
    "- If we want to do statistics like mean or median, we'll need this data to be a number type like integer or float.\n",
    "- Python does not understand commas in numbers like 61,900 and these will need to be removed.\n",
    "- '*' and '#' are not numbers and will need to be changed. Does replacing them with 0 make sense or do we need to do something else?"
   ]
  },
  {
   "cell_type": "code",
   "execution_count": null,
   "id": "86e784ce",
   "metadata": {},
   "outputs": [],
   "source": [
    "columns_to_modify = ['H_MEAN', 'A_MEAN', 'MEAN_PRSE', 'H_PCT10', \n",
    "                     'H_PCT25', 'H_MEDIAN', 'H_PCT75', 'H_PCT90', \n",
    "                     'A_PCT10', 'A_PCT25', 'A_MEDIAN', 'A_PCT75', \n",
    "                     'A_PCT90'\n",
    "                    ]\n",
    "\n",
    "# Splits columns by number type wanted\n",
    "int_columns = ['A_MEAN', 'A_PCT10', 'A_PCT25', 'A_MEDIAN', 'A_PCT75', 'A_PCT90']\n",
    "float_columns = ['H_MEAN', 'MEAN_PRSE', 'H_PCT10', 'H_PCT25', 'H_MEDIAN', 'H_PCT75', 'H_PCT90']\n",
    "\n",
    "# Initialize dict of column and its type\n",
    "dict_column_and_type = {}\n",
    "\n",
    "# Attach column name with the data type\n",
    "for column_name in columns_to_modify:\n",
    "    if column_name in int_columns:\n",
    "        # 'Int64' is needed when mixing ints with pandas.NA\n",
    "        dict_column_and_type[column_name] = 'Int64'\n",
    "    else:\n",
    "        # 'Float64' is needed when mixing floats with pandas.NA\n",
    "        dict_column_and_type[column_name] = 'Float64'"
   ]
  },
  {
   "cell_type": "code",
   "execution_count": null,
   "id": "c6f18274",
   "metadata": {},
   "outputs": [],
   "source": [
    "dict_column_and_type"
   ]
  },
  {
   "cell_type": "code",
   "execution_count": null,
   "id": "a0d2db16",
   "metadata": {},
   "outputs": [],
   "source": [
    "# To use .apply, we want the input of the definition to be the value in the table\n",
    "def remove_commas(text):\n",
    "    return text.replace(\",\", \"\")\n",
    "\n",
    "def replace_symbols(text):\n",
    "    # pandas.NA is Not a Number\n",
    "    new_text = text.replace(\"*\", pandas.NA)\n",
    "    new_text = new_text.replace(\"#\", pandas.NA)\n",
    "    new_text = new_text.replace(numpy.nan, pandas.NA)\n",
    "    return new_text"
   ]
  },
  {
   "cell_type": "code",
   "execution_count": null,
   "id": "b9f4d783",
   "metadata": {},
   "outputs": [],
   "source": [
    "# Initialize our sanitized dataframe\n",
    "sanitized_df = dataframe\n",
    "\n",
    "# Apply our two functions\n",
    "sanitized_df[columns_to_modify] = sanitized_df[columns_to_modify].apply(remove_commas)\n",
    "sanitized_df[columns_to_modify] = sanitized_df[columns_to_modify].apply(replace_symbols)\n",
    "\n",
    "# Using the dictonary, we cast each column as its associated data type\n",
    "sanitized_df = sanitized_df.astype(dict_column_and_type)"
   ]
  },
  {
   "cell_type": "code",
   "execution_count": null,
   "id": "c595b2e4",
   "metadata": {},
   "outputs": [],
   "source": [
    "sanitized_df.head()"
   ]
  },
  {
   "cell_type": "markdown",
   "id": "f87a7010",
   "metadata": {},
   "source": [
    "# Other Useful Functions on DataFrames"
   ]
  },
  {
   "cell_type": "code",
   "execution_count": null,
   "id": "9dd351d9",
   "metadata": {},
   "outputs": [],
   "source": [
    "sanitized_df.columns # Returns list of column names"
   ]
  },
  {
   "cell_type": "code",
   "execution_count": null,
   "id": "94acabfd",
   "metadata": {},
   "outputs": [],
   "source": [
    "sanitized_df.head(10) # Without a number, .head returns 5 rows. You can control how many rows are returned though."
   ]
  },
  {
   "cell_type": "code",
   "execution_count": null,
   "id": "054f44dc",
   "metadata": {},
   "outputs": [],
   "source": [
    "sanitized_df.tail(10) # Last 5 rows"
   ]
  },
  {
   "cell_type": "code",
   "execution_count": null,
   "id": "1b20cf49",
   "metadata": {},
   "outputs": [],
   "source": [
    "sanitized_df.describe() # Quick statistics by column"
   ]
  },
  {
   "cell_type": "code",
   "execution_count": null,
   "id": "17de2dfa",
   "metadata": {},
   "outputs": [],
   "source": [
    "area_titles = sanitized_df['AREA_TITLE'].value_counts() # List of all unique entiries and their count in a column\n",
    "#for text in area_titles:\n",
    "#    print(text)\n",
    "area_titles"
   ]
  },
  {
   "cell_type": "code",
   "execution_count": null,
   "id": "2d7564c3",
   "metadata": {},
   "outputs": [],
   "source": [
    "sanitized_df.sort_values(by='H_MEDIAN', inplace=True) # Sort by a column. Note the index remains\n",
    "sanitized_df"
   ]
  },
  {
   "cell_type": "code",
   "execution_count": null,
   "id": "6ab963fa",
   "metadata": {},
   "outputs": [],
   "source": [
    "sanitized_df.sort_index() # Sort by index. Useful for returning order after sorting by a certain column"
   ]
  },
  {
   "cell_type": "code",
   "execution_count": null,
   "id": "b67ece06",
   "metadata": {},
   "outputs": [],
   "source": []
  }
 ],
 "metadata": {
  "kernelspec": {
   "display_name": "Python 3 (ipykernel)",
   "language": "python",
   "name": "python3"
  },
  "language_info": {
   "codemirror_mode": {
    "name": "ipython",
    "version": 3
   },
   "file_extension": ".py",
   "mimetype": "text/x-python",
   "name": "python",
   "nbconvert_exporter": "python",
   "pygments_lexer": "ipython3",
   "version": "3.11.3"
  }
 },
 "nbformat": 4,
 "nbformat_minor": 5
}
