{
 "cells": [
  {
   "cell_type": "markdown",
   "id": "87ce0742",
   "metadata": {},
   "source": [
    "# File Paths"
   ]
  },
  {
   "cell_type": "markdown",
   "id": "846aab19",
   "metadata": {},
   "source": [
    "Files paths are used by your computer to store the location of some files. There are two ways to write a file path: absolute and relative. Since we need to know where a file is located to import it into Python, it is important to understand the difference."
   ]
  },
  {
   "cell_type": "markdown",
   "id": "11af1532",
   "metadata": {},
   "source": [
    "## Absolute Path"
   ]
  },
  {
   "cell_type": "markdown",
   "id": "85457e02",
   "metadata": {},
   "source": [
    "An **absolute** file path specifies every single drive and folder the file is located in. For example, a common document on a Windows computer could be found at **C:\\Users\\username\\Documents\\docname.docx** where the *C:* specifies the driver, *Users*, *username*, *Documents* are folders, *docname* is the name of the document, and *.docx* is the file type. \n",
    "\n",
    "Absolute paths are safe to use as they explitly state where the file is located but are not flexible. "
   ]
  },
  {
   "cell_type": "markdown",
   "id": "154d28ae",
   "metadata": {},
   "source": [
    "A **relative** file path specifies where the file is located relative to a location. For example, opening Command Prompt on a Windows computer defaults to the location **C:\\Users\\username**. Relative to this starting location, my file would be found at **.\\Documents\\docname.docx**. When using relative paths, *.* is used to go into the folder and *..* to go out of the folder.\n",
    "\n",
    "Relative paths are flexible but can be difficult to use."
   ]
  },
  {
   "cell_type": "markdown",
   "id": "83fd0b3c",
   "metadata": {},
   "source": [
    "# Absolute and Relative File Path Example"
   ]
  },
  {
   "cell_type": "markdown",
   "id": "77711e81",
   "metadata": {},
   "source": [
    "Let's assume we are in the folder **C:\\Users\\username\\Documents** which contains two folders: *Code* and *Datasets*. The folder *Code* has files *code_absolute.py* and *code_relative.py* while *Datasets* has *dataset.csv*.\n",
    "\n",
    "Documents <br>\n",
    "├───Code <br>\n",
    "│   ├───code_absolute.py <br>\n",
    "│   └───code_relative.py <br>\n",
    "└───Datasets <br>\n",
    "    └───dataset.csv <br>\n",
    "\n",
    "Let's say that each code file wants to reference the dataset based on its file name. \n",
    "\n",
    "**code_absolute.py** will use **C:\\Users\\username\\Documents\\Datasets\\dataset.csv** \n",
    "\n",
    "and \n",
    "\n",
    "**code_relative.py** will use **../../Datasets/dataset.csv**"
   ]
  }
 ],
 "metadata": {
  "kernelspec": {
   "display_name": "Python 3",
   "language": "python",
   "name": "python3"
  },
  "language_info": {
   "codemirror_mode": {
    "name": "ipython",
    "version": 3
   },
   "file_extension": ".py",
   "mimetype": "text/x-python",
   "name": "python",
   "nbconvert_exporter": "python",
   "pygments_lexer": "ipython3",
   "version": "3.12.7"
  }
 },
 "nbformat": 4,
 "nbformat_minor": 5
}
