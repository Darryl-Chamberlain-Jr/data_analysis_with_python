{
 "cells": [
  {
   "cell_type": "markdown",
   "id": "54ea2e9c",
   "metadata": {},
   "source": [
    "## Venn Diagram of Merging"
   ]
  },
  {
   "cell_type": "markdown",
   "id": "8e881e36",
   "metadata": {},
   "source": [
    "StackOverflow has an excellent discussion of different types of merging WITH VISUALS: https://stackoverflow.com/questions/38549/what-is-the-difference-between-inner-join-and-outer-join\n",
    "\n",
    "Key Visual Summary: https://i.stack.imgur.com/hMKKt.jpg\n",
    "- **Concatenate** - Return all rows with NaN for missing data\n",
    "- **Inner Merge** - Return rows with column matches in both dataframes\n",
    "- **Outer Merge** - Return rows with column matches in either dataframe"
   ]
  },
  {
   "cell_type": "markdown",
   "id": "2df83fd9",
   "metadata": {},
   "source": [
    "## Concatenate"
   ]
  },
  {
   "cell_type": "markdown",
   "id": "dad2634a",
   "metadata": {},
   "source": [
    "The idea to concatenating is to take the two dataframes and stack them on one another. Any missing data (columns defined in one dataframe and not in the other) are treated as NaN. **There is no attempt to match and exclude data.** "
   ]
  },
  {
   "cell_type": "code",
   "execution_count": null,
   "id": "d515f62f",
   "metadata": {},
   "outputs": [],
   "source": [
    "import pandas as pd\n",
    "\n",
    "df_1 = pd.DataFrame({'col_1': [1, 2], 'col_2': [3, 4]})\n",
    "df_2 = pd.DataFrame({'col_1': [11, 12], 'col_3': [13, 14]})\n",
    "concat_df = pd.concat([df_1, df_2])\n",
    "\n",
    "concat_df"
   ]
  },
  {
   "cell_type": "markdown",
   "id": "4d2466ad",
   "metadata": {},
   "source": [
    "Notice that some values were changed from integers to float. We will deal with that in a future lesson."
   ]
  },
  {
   "cell_type": "markdown",
   "id": "f79a22ee",
   "metadata": {},
   "source": [
    "## Inner Merge"
   ]
  },
  {
   "cell_type": "code",
   "execution_count": null,
   "id": "f1533d94",
   "metadata": {},
   "outputs": [],
   "source": [
    "df_1 = pd.DataFrame({'col_1': [1, 2], 'col_2': [3, 4], 'col_3': [13, 14]})\n",
    "df_2 = pd.DataFrame({'col_1': [1, 2], 'col_3': [3, 24]})\n",
    "inner_merge_df = pd.merge(df_1, df_2, how=\"inner\")\n",
    "\n",
    "inner_merge_df"
   ]
  },
  {
   "cell_type": "markdown",
   "id": "ba507443",
   "metadata": {},
   "source": [
    "Since there are no perfectly matched rows, the output is empty. But what if we wanted to check for partial matches? We can define the columns we want to merge on with **on=[]**."
   ]
  },
  {
   "cell_type": "code",
   "execution_count": null,
   "id": "eb24c263",
   "metadata": {},
   "outputs": [],
   "source": [
    "df_1 = pd.DataFrame({'col_1': [1, 2], 'col_2': [3, 4], 'col_3': [13, 14]})\n",
    "df_2 = pd.DataFrame({'col_1': [1, 12], 'col_2': [100, 200], 'col_3': [13, 14]})\n",
    "inner_merge_df = pd.merge(df_1, df_2, how=\"inner\", on=['col_1', 'col_3'])\n",
    "# Since the first row has col_1 = 1 for both dataframes, they are merged\n",
    "\n",
    "inner_merge_df"
   ]
  },
  {
   "cell_type": "markdown",
   "id": "5105ec2a",
   "metadata": {},
   "source": [
    "This is a useful trick when looking for partial matches. Notice we had matches for col_1 and col_3? We did an inner merge and the conflicts for df_1 and df_2 are saved as col_2_x and col_2_y. "
   ]
  },
  {
   "cell_type": "markdown",
   "id": "1d1c0d0a",
   "metadata": {},
   "source": [
    "## Outer Merge"
   ]
  },
  {
   "cell_type": "code",
   "execution_count": null,
   "id": "0d6a6232",
   "metadata": {},
   "outputs": [],
   "source": [
    "df_1 = pd.DataFrame({'col_1': [1, 2], 'col_2': [3, 4], 'col_3': [13, 14]})\n",
    "df_2 = pd.DataFrame({'col_1': [1, 12], 'col_2': [100, 200], 'col_3': [13, 14]})\n",
    "outer_merge_df = pd.merge(df_1, df_2, how=\"outer\", on=['col_1'])\n",
    "\n",
    "outer_merge_df"
   ]
  },
  {
   "cell_type": "markdown",
   "id": "59d2b76a",
   "metadata": {},
   "source": [
    "Notice that we defined an outer merge on col_1. This means our match of col_1 = 1 was combined, with the conflicting values of the other columns listed. The other two rows are included since they have values defined for col_1. "
   ]
  },
  {
   "cell_type": "code",
   "execution_count": null,
   "id": "e24eb2dd",
   "metadata": {},
   "outputs": [],
   "source": [
    "df_1 = pd.DataFrame({'col_1': [1, 2], 'col_2': [3, 4], 'col_3': [13, 14]})\n",
    "df_2 = pd.DataFrame({'col_1': [1, 12], 'col_3': [13, 14]})\n",
    "outer_merge_df = pd.merge(df_1, df_2, how=\"outer\")\n",
    "\n",
    "outer_merge_df"
   ]
  },
  {
   "cell_type": "markdown",
   "id": "e408a886",
   "metadata": {},
   "source": [
    "Notice how row 1 of df_2 is not included since it matches everywhere it is defined with row 1 of df_1."
   ]
  },
  {
   "cell_type": "code",
   "execution_count": null,
   "id": "0878e1a0",
   "metadata": {},
   "outputs": [],
   "source": [
    "df_1 = pd.DataFrame({'col_1': [1, 2], 'col_2': [3, 4]})\n",
    "df_2 = pd.DataFrame({'col_1': [11, 12], 'col_3': [13, 14]})\n",
    "outer_merge_df = pd.merge(df_1, df_2, how=\"outer\")\n",
    "\n",
    "outer_merge_df"
   ]
  },
  {
   "cell_type": "markdown",
   "id": "402c2dc8",
   "metadata": {},
   "source": [
    "When there are no matching rows, an outer merge will look like a concatenate. **The main difference here is outer merge TRIES to combine copies while concatenate does not!**"
   ]
  },
  {
   "cell_type": "markdown",
   "id": "a878e0be",
   "metadata": {},
   "source": [
    "## Note\n",
    "\n",
    "If you looked at the key visual summary, you'll see there are more ways to combine data than concatenate, inner merge, and outer merge. However, these will be the three most common ways to merge that you will use in the course."
   ]
  }
 ],
 "metadata": {
  "kernelspec": {
   "display_name": "Python 3",
   "language": "python",
   "name": "python3"
  },
  "language_info": {
   "codemirror_mode": {
    "name": "ipython",
    "version": 3
   },
   "file_extension": ".py",
   "mimetype": "text/x-python",
   "name": "python",
   "nbconvert_exporter": "python",
   "pygments_lexer": "ipython3",
   "version": "3.12.7"
  }
 },
 "nbformat": 4,
 "nbformat_minor": 5
}
