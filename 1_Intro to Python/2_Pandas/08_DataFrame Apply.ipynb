{
 "cells": [
  {
   "cell_type": "markdown",
   "id": "f935aa9f",
   "metadata": {},
   "source": [
    "# dataframe.apply "
   ]
  },
  {
   "cell_type": "markdown",
   "id": "28786090",
   "metadata": {},
   "source": [
    "One of the most important functions you can use on a dataframe is the .apply function. This allows you to use some function you define on an entire column or an entire dataframe! It is also faster than iterating through every single row (but we won't get into the weeds of why it is faster). Let's see an example to check it out in action."
   ]
  },
  {
   "cell_type": "code",
   "execution_count": 2,
   "id": "26cfcf2d",
   "metadata": {},
   "outputs": [],
   "source": [
    "import pandas as pd\n",
    "\n",
    "# We are going to use this cell just to load the dataframe\n",
    "# That way, running the code in other cells will be quick since we don't have to re-load the dataframe\n",
    "dataframe = pd.read_excel(\"../Datasets/all_data_M_2022.xlsx\")"
   ]
  },
  {
   "cell_type": "code",
   "execution_count": null,
   "id": "49e6b0a4",
   "metadata": {},
   "outputs": [],
   "source": [
    "def add_a_dollar_sign(integer):\n",
    "    new_text = f'${integer}'\n",
    "    return new_text\n",
    "\n",
    "# We want to create a new dataframe that we will modify and leave the original one alone\n",
    "new_dataframe = dataframe.copy() # We don't *need* to do this, but it is faster to make copies and modify our dataframe than it is to have to reload it again\n",
    "\n",
    "# We want to modify the 'H_MEDIAN' column to add a dollar sign\n",
    "new_dataframe['H_MEDIAN'] = dataframe['H_MEDIAN'].apply(add_a_dollar_sign)\n",
    "new_dataframe.head()"
   ]
  },
  {
   "cell_type": "markdown",
   "id": "397b9ea4",
   "metadata": {},
   "source": [
    "Now let's see why we spent all the time creating the RegEx function by applying it to our dataframe."
   ]
  },
  {
   "cell_type": "markdown",
   "id": "b3446c7d",
   "metadata": {},
   "source": [
    "## Run this group of code to create the fake data that gets converted\n",
    "Click the run button next to \"2 cells hidden\""
   ]
  },
  {
   "cell_type": "code",
   "execution_count": 11,
   "id": "a4736d72",
   "metadata": {},
   "outputs": [],
   "source": [
    "from numpy import random # needed for random. functions\n",
    "\n",
    "# List of dicts with month and the month number\n",
    "day_months_31 = ['January', 'March', 'May', 'July', \n",
    "                 'August', 'October', 'December']\n",
    "day_months_30 = ['April', 'June', 'September', 'November']\n",
    "day_months_28 = ['February'] # Ignoring leap years\n",
    "list_of_dict_months = day_months_31 + day_months_30 + day_months_28\n",
    "\n",
    "# define a function that creates a random date\n",
    "def random_date():\n",
    "    month = list_of_dict_months[random.randint(0,12)]\n",
    "    # ensures the month has the correct number of days\n",
    "    if month in day_months_31:\n",
    "        day = random.randint(1, 32)\n",
    "    elif month in day_months_30:\n",
    "        day = random.randint(1, 31)\n",
    "    else:\n",
    "        day = random.randint(1, 29)\n",
    "    year = random.randint(1900, 2024)\n",
    "    return f'{month} {day}, {year}'\n",
    "    \n",
    "# initialize empty list\n",
    "list_of_dates = []\n",
    "\n",
    "# Create a list of 1000 dates\n",
    "while len(list_of_dates) < 1000:\n",
    "    list_of_dates.append(random_date())"
   ]
  },
  {
   "cell_type": "code",
   "execution_count": 12,
   "id": "9bcbcc77",
   "metadata": {},
   "outputs": [],
   "source": [
    "import re\n",
    "\n",
    "# Create dictionary of months and associated number\n",
    "months_in_order = ['January', 'February', 'March', 'April', \n",
    "                       'May', 'June', 'July', 'August', \n",
    "                       'September', 'October', 'November', 'December']\n",
    "dict_of_months = {} # As we saw before, dictionaries are basically sets where each element has an associated key, so we start by defining an empty set that we will populate\n",
    "    \n",
    "for index in range(1, 13): # remember range does not include the last value\n",
    "    # This adds a key (Month name) and an associated value (Month number)\n",
    "    dict_of_months[months_in_order[index-1]] = index\n",
    "\n",
    "converted_list_of_dates = []\n",
    "\n",
    "# Using parentheses groups chunks of string together as a \"group\"\n",
    "    # This is how we defined group(1), group(2), group(3)\n",
    "# .+ means one or more occurances of any character\n",
    "# , is just a comma and is not special here\n",
    "# This effectively searches for the following groups\n",
    "    # (group 1) (group 2), (group 3)\n",
    "    # Month Day, Year\n",
    "pattern_to_match = '(.+) (.+), (.+)'\n",
    "\n",
    "def regex_convert(date):\n",
    "    temp_match_object = re.search(pattern_to_match, date) # We know there will be only 1 match, so there is no issue using re.search() here.\n",
    "    \n",
    "    raw_month = temp_match_object.group(1) \n",
    "    day = temp_match_object.group(2)\n",
    "    year = temp_match_object.group(3)\n",
    "    \n",
    "    month_number = dict_of_months[raw_month] # Converting from word to number\n",
    "    \n",
    "    short_date = f'{month_number}/{day}/{year}'\n",
    "    return short_date"
   ]
  },
  {
   "cell_type": "markdown",
   "id": "563ef07b",
   "metadata": {},
   "source": [
    "## The finale"
   ]
  },
  {
   "cell_type": "code",
   "execution_count": null,
   "id": "e0a3dc30",
   "metadata": {},
   "outputs": [],
   "source": [
    "# Create dataframe with a column of long dates\n",
    "date_df = pd.DataFrame(list_of_dates, columns=['Long Date'])\n",
    "\n",
    "# Create a new column of short dates by applying our regex_convert function to the Long Date column\n",
    "date_df['Short Date'] = date_df['Long Date'].apply(regex_convert)\n",
    "\n",
    "date_df.head()"
   ]
  },
  {
   "cell_type": "markdown",
   "id": "3fb9b9a7",
   "metadata": {},
   "source": [
    "## Recap\n",
    "Let's recap some new things we did as we learned about regex and dataframe.apply\n",
    "- Splitting code between blocks for clarity\n",
    "- Importing libraries at the top or near top of cell\n",
    "- Creating a function that can be used in multiple cells\n",
    "- Loading a dataframe once in a separate cell\n",
    "- Copying the raw dataframe before making changes"
   ]
  }
 ],
 "metadata": {
  "kernelspec": {
   "display_name": "Python 3",
   "language": "python",
   "name": "python3"
  },
  "language_info": {
   "codemirror_mode": {
    "name": "ipython",
    "version": 3
   },
   "file_extension": ".py",
   "mimetype": "text/x-python",
   "name": "python",
   "nbconvert_exporter": "python",
   "pygments_lexer": "ipython3",
   "version": "3.12.7"
  }
 },
 "nbformat": 4,
 "nbformat_minor": 5
}
