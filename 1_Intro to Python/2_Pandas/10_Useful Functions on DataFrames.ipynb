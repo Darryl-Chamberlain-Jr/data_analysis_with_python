{
 "cells": [
  {
   "cell_type": "markdown",
   "id": "f87a7010",
   "metadata": {},
   "source": [
    "# Useful Functions on DataFrames\n",
    "Here are some of the most useful functions on DataFrames. \n",
    "\n",
    "**df.columns()** - Returns a list of column names. Column names can be used as keys to extract columns from a dataframe. <br>\n",
    "**df.head(#)** and **df.tail(#)** - Returns the first (head) or last (tail) # rows of a dataframe. <br>\n",
    "**df.describe()** - Returns quick statistics by column, including mean, median, <br>\n",
    "**df.sort_values()** - Sort values in a column, similar to using a Filter in Excel. Note that the index remains the same. <br>\n",
    "**df.sort_index()** - Sort by index. Useful for returning order after sorting by a certain column. <br>\n",
    "**df.groupby()** - Collapse rows together that share one or more same column values. Useful for going from a fine to coarse analysis. For example, if data is saved by country, we could groupby country and analyze by region or continent. <br>\n",
    "**df.explode()** - Using a list in some column's value, create new rows for each entry in that list. \n",
    "**df.apply()**"
   ]
  },
  {
   "cell_type": "code",
   "execution_count": 3,
   "id": "4df6c64c",
   "metadata": {},
   "outputs": [],
   "source": [
    "import numpy as np\n",
    "import pandas as pd\n",
    "\n",
    "# For this example, I downloaded May 2022 data\n",
    "# This will take 1-2 minutes as there are 400,000+ rows of data!\n",
    "df = pd.read_excel(\"../Datasets/all_data_M_2022.xlsx\")"
   ]
  },
  {
   "cell_type": "code",
   "execution_count": 2,
   "id": "1b20cf49",
   "metadata": {},
   "outputs": [
    {
     "ename": "NameError",
     "evalue": "name 'df' is not defined",
     "output_type": "error",
     "traceback": [
      "\u001b[1;31m---------------------------------------------------------------------------\u001b[0m",
      "\u001b[1;31mNameError\u001b[0m                                 Traceback (most recent call last)",
      "Cell \u001b[1;32mIn[2], line 1\u001b[0m\n\u001b[1;32m----> 1\u001b[0m \u001b[43mdf\u001b[49m\u001b[38;5;241m.\u001b[39mdescribe() \u001b[38;5;66;03m# Quick statistics by column\u001b[39;00m\n",
      "\u001b[1;31mNameError\u001b[0m: name 'df' is not defined"
     ]
    }
   ],
   "source": [
    "df.describe() # Quick statistics by column"
   ]
  },
  {
   "cell_type": "code",
   "execution_count": null,
   "id": "17de2dfa",
   "metadata": {},
   "outputs": [],
   "source": [
    "area_titles = sanitized_df['AREA_TITLE'].value_counts() # List of all unique entiries and their count in a column\n",
    "#for text in area_titles:\n",
    "#    print(text)\n",
    "area_titles"
   ]
  },
  {
   "cell_type": "code",
   "execution_count": null,
   "id": "2d7564c3",
   "metadata": {},
   "outputs": [],
   "source": [
    "sanitized_df.sort_values(by='H_MEDIAN', inplace=True) # Sort by a column. Note the index remains\n",
    "sanitized_df"
   ]
  },
  {
   "cell_type": "code",
   "execution_count": null,
   "id": "6ab963fa",
   "metadata": {},
   "outputs": [],
   "source": [
    "sanitized_df.sort_index() # Sort by index. Useful for returning order after sorting by a certain column"
   ]
  }
 ],
 "metadata": {
  "kernelspec": {
   "display_name": "Python 3",
   "language": "python",
   "name": "python3"
  },
  "language_info": {
   "codemirror_mode": {
    "name": "ipython",
    "version": 3
   },
   "file_extension": ".py",
   "mimetype": "text/x-python",
   "name": "python",
   "nbconvert_exporter": "python",
   "pygments_lexer": "ipython3",
   "version": "3.12.7"
  }
 },
 "nbformat": 4,
 "nbformat_minor": 5
}
