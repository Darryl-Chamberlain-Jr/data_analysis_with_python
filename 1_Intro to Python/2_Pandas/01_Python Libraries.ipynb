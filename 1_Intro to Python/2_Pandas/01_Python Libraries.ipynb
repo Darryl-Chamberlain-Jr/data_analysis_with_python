{
 "cells": [
  {
   "cell_type": "markdown",
   "id": "64580929",
   "metadata": {},
   "source": [
    "# Python Libraries"
   ]
  },
  {
   "cell_type": "markdown",
   "id": "304f0b3a",
   "metadata": {},
   "source": [
    "Previously, we learned how to write our own functions that could be called multiple times. It is possible to call functions that other people have written as well! We do this by importing files that define the various functions we could use. Two of the most important Libraries (collection of files with pre-defined functions) are **numpy** and **pandas**. \n",
    "\n",
    "**numpy**, short for **num**erical **py**thon, specializes in arrays and is heavily used for its RANDOM functions. "
   ]
  },
  {
   "cell_type": "markdown",
   "id": "3bf7cd48",
   "metadata": {},
   "source": [
    "When importing a module for the first time, you will need to install it using \n",
    "\n",
    ">pip install module_name"
   ]
  },
  {
   "cell_type": "code",
   "execution_count": null,
   "id": "f9e83d75",
   "metadata": {},
   "outputs": [],
   "source": [
    "import numpy # If you get a ModuleNotFoundError, run the following code in a terminal/command prompt OUTSIDE of Python\n",
    "# pip install numpy\n",
    "\n",
    "# randint(VALUE) generates a random integer between 0 and VALUE (not including VALUE)\n",
    "x = numpy.random.randint(100)\n",
    "print(x)"
   ]
  },
  {
   "cell_type": "code",
   "execution_count": null,
   "id": "1a575f06",
   "metadata": {},
   "outputs": [],
   "source": [
    "# Alternatively, we JUST import the random functions from numpy and ignore the rest of the library\n",
    "# When we do this, we don't need to include the library name\n",
    "from numpy import random\n",
    "\n",
    "x = random.randint(100)\n",
    "print(x)"
   ]
  },
  {
   "cell_type": "markdown",
   "id": "af05a3ba",
   "metadata": {},
   "source": [
    "**pandas** is short for **pan**el **da**ta and is primarily used for data analysis. We will heavily rely on pandas to manipulate data. You will commonly see the two imported at the same time"
   ]
  },
  {
   "cell_type": "code",
   "execution_count": 5,
   "id": "76062ce7",
   "metadata": {},
   "outputs": [],
   "source": [
    "import numpy\n",
    "import pandas # Remember to install with \"pip install pandas\""
   ]
  },
  {
   "cell_type": "code",
   "execution_count": 6,
   "id": "c470858d",
   "metadata": {},
   "outputs": [],
   "source": [
    "# Alternaively, you can cut down on your typing by providing an alias for the library names\n",
    "# Pandas own documentation uses the aliases below. \n",
    "# See https://pandas.pydata.org/docs/user_guide/10min.html for an example\n",
    "\n",
    "import numpy as np\n",
    "import pandas as pd"
   ]
  }
 ],
 "metadata": {
  "kernelspec": {
   "display_name": "Python 3",
   "language": "python",
   "name": "python3"
  },
  "language_info": {
   "codemirror_mode": {
    "name": "ipython",
    "version": 3
   },
   "file_extension": ".py",
   "mimetype": "text/x-python",
   "name": "python",
   "nbconvert_exporter": "python",
   "pygments_lexer": "ipython3",
   "version": "3.12.7"
  }
 },
 "nbformat": 4,
 "nbformat_minor": 5
}
