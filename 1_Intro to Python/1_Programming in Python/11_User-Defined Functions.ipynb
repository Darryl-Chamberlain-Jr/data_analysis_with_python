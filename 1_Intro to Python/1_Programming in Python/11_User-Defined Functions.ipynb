{
 "cells": [
  {
   "cell_type": "markdown",
   "id": "2cdf042b",
   "metadata": {},
   "source": [
    "# Formatting Strings"
   ]
  },
  {
   "cell_type": "markdown",
   "id": "b79b7b3e",
   "metadata": {},
   "source": [
    "There are a few ways to format strings. Since this course is about the bare minimums to code for Data Science, we'll focus on learning just one rather than learning them all. You are always welcome to read more about the other formats [%-formatting and str.format()], but I find the following format to be the easiest to read and use. \n",
    "\n",
    "## f-strings\n",
    "**f-strings** were introduced in Python 3.6 (release date: Dec 2016) as a way to improve the readability of placing variables in strings. Up until this point in the course, we've always defined strings using either \" \" or ' '. An f-string declaration is easy to remember: you put an f in front of the normal string definition. Let's see some examples. "
   ]
  },
  {
   "cell_type": "code",
   "execution_count": null,
   "id": "4a03ed57",
   "metadata": {},
   "outputs": [],
   "source": [
    "# In the \"Conditional Statements\" lesson, we wrote the following lines of code to sum all values from 0 to 9. \n",
    "total_sum=0\n",
    "for value in range(0, 10):\n",
    "    print('Value:', value)\n",
    "    total_sum=total_sum+value\n",
    "    print('Running Total:', total_sum)\n",
    "\n",
    "print('Final total', total_sum)"
   ]
  },
  {
   "cell_type": "code",
   "execution_count": null,
   "id": "136b3c66",
   "metadata": {},
   "outputs": [],
   "source": [
    "# Let's use f-strings to rewrite our print statements.\n",
    "total_sum=0\n",
    "for value in range(0, 10):\n",
    "    print(f'Value: {value}')\n",
    "    total_sum=total_sum+value\n",
    "    print(f'Running Total: {total_sum}')\n",
    "\n",
    "print(f'Final total {total_sum}')"
   ]
  },
  {
   "cell_type": "markdown",
   "id": "97b82129",
   "metadata": {},
   "source": [
    "Slightly easier to read, but no real difference. f-strings make a bigger difference when you want to insert many variables. Let's go back to our I-9 example. "
   ]
  },
  {
   "cell_type": "code",
   "execution_count": null,
   "id": "0436a545",
   "metadata": {},
   "outputs": [],
   "source": [
    "# Our previous example. The print statements aren't very descriptive, so let's change that.\n",
    "\n",
    "# Establishes Identity and Employment Authorization\n",
    "list_A_documents=['U.S. Passport', \n",
    "                  'Permanent Resident Card', \n",
    "                  'Employment Authorization Document Card', \n",
    "                  'Foreign Passport with Endorsement to Work'\n",
    "                 ]\n",
    "# Establishes Identity\n",
    "list_B_documents=[\"Driver's License\"]\n",
    "# Establishes Employment Authorization\n",
    "list_C_documents=['Social Security Number',\n",
    "                  'Birth Certificate', \n",
    "                  'Certification of Birth Abroad', \n",
    "                  'Native American tribal document'\n",
    "                 ]\n",
    "\n",
    "first_document=input('What type of document are you submitting first? ')\n",
    "\n",
    "if first_document in list_A_documents:\n",
    "    print('Verdict: You have established identity and employment authorization.')\n",
    "    \n",
    "elif (first_document in list_B_documents) or (first_document in list_C_documents):\n",
    "    second_document=input('Please provide another document to establish both identity and employment authorization. ')\n",
    "    \n",
    "    # Two scenarios that give a document in both List B and List C\n",
    "    scenario_1=(first_document in list_B_documents) and (second_document in list_C_documents)\n",
    "    scenario_2=(first_document in list_C_documents) and (second_document in list_B_documents)\n",
    "    \n",
    "    if scenario_1 or scenario_2:\n",
    "        print()\n",
    "        print('Verdict: You have established identity and employment authorization.')\n",
    "        \n",
    "    else:\n",
    "        print()\n",
    "        print('Verdict: You have not established identity and employment authorization. Please try again.')\n",
    "\n",
    "else:\n",
    "    print('Verdict: Your document does not establish identity nor employment authorization. Please try again.')"
   ]
  },
  {
   "cell_type": "code",
   "execution_count": null,
   "id": "1e9cf537",
   "metadata": {},
   "outputs": [],
   "source": [
    "# I-9 Document Checking Script 2.0\n",
    "\n",
    "# Establishes Identity and Employment Authorization\n",
    "list_A_documents=['U.S. Passport', \n",
    "                  'Permanent Resident Card', \n",
    "                  'Employment Authorization Document Card', \n",
    "                  'Foreign Passport with Endorsement to Work'\n",
    "                 ]\n",
    "# Establishes Identity\n",
    "list_B_documents=[\"Driver's License\"]\n",
    "# Establishes Employment Authorization\n",
    "list_C_documents=['Social Security Number',\n",
    "                  'Birth Certificate', \n",
    "                  'Certification of Birth Abroad', \n",
    "                  'Native American tribal document'\n",
    "                 ]\n",
    "\n",
    "doc_1=input('What type of document are you submitting first? ')\n",
    "doc_1_in_A=(doc_1 in list_A_documents)\n",
    "doc_1_in_B_or_C=(doc_1 in list_B_documents) or (doc_1 in list_C_documents)\n",
    "\n",
    "if doc_1_in_A:\n",
    "    print(f'Verdict: You have established identity and employment authorization as {doc_1} is a list A document.')\n",
    "\n",
    "elif doc_1_in_B_or_C:\n",
    "    if doc_1 in list_B_documents:\n",
    "        list_B_or_C='list B'\n",
    "        other_list='list C'\n",
    "        identity_or_authorization='employment authorization'\n",
    "    \n",
    "    # doc_1 in list_C_documents:\n",
    "    else:\n",
    "        list_B_or_C='list C'\n",
    "        other_list='list B'\n",
    "        identity_or_authorization='identity'\n",
    "    \n",
    "    # Splitting response sentences for readability\n",
    "    first_sentence_response=f'Your document {doc_1} is in {list_B_or_C}.'\n",
    "    second_sentence_response=f'Please provide a document in {other_list} to establish {identity_or_authorization}.'\n",
    "    doc_2=input(f'{first_sentence_response} {second_sentence_response}')\n",
    "    \n",
    "    # Two scenarios that give a document in both List B and List C\n",
    "    doc_1_in_B_doc_2_in_C=(doc_1 in list_B_documents) and (doc_2 in list_C_documents)\n",
    "    doc_1_in_C_doc_2_in_B=(doc_1 in list_C_documents) and (doc_2 in list_B_documents)\n",
    "    \n",
    "    if doc_1_in_B_doc_2_in_C or doc_1_in_C_doc_2_in_B:\n",
    "        print()\n",
    "        print(f'Verdict: You have established identity and employment authorization with {doc_1} and {doc_2}.')\n",
    "    \n",
    "    # First document established something, but they didn't establish what they were supposed to with the second document.\n",
    "    else:\n",
    "        print()\n",
    "        print(f'Verdict: You did not establish {identity_or_authorization} with {doc_2}. Please try again.')\n",
    "\n",
    "# First document is not in list A, B, or C\n",
    "else:\n",
    "    print(f'Verdict: Document {doc_1} does not establish identity nor employment authorization. Please try again.')"
   ]
  },
  {
   "cell_type": "markdown",
   "id": "36dfaeb6",
   "metadata": {},
   "source": [
    "See if you can spot all of the improvements we made from the first version. Did the f-strings improve the feedback from the code? \n",
    "\n",
    "This example also provides an exceptional view into how you will make iterative improvements to code as it becomes more robust! You likely also noticed we made the if and elif conditions their own descriptive variables so that it reads closer to \"human writing\". The code \"if doc_1_in_A:\" is very clear on what condition is being checked, as is \"if doc_1_in_B_or_C\". Since else is whatever is leftover, we make a comment to explicitly state what condition is happening in this part. "
   ]
  },
  {
   "cell_type": "markdown",
   "id": "428dda8c",
   "metadata": {},
   "source": [
    "# User-Defined Functions"
   ]
  },
  {
   "cell_type": "markdown",
   "id": "0e1c015f",
   "metadata": {},
   "source": [
    "Let's say I want to do something again and again, but don't want it keep repeating it in my code.  Defining a **function** can make that process easy! We have used Python-defined functions like print(), but we can create our own functions. Let's look at an example below."
   ]
  },
  {
   "cell_type": "code",
   "execution_count": 3,
   "id": "d1cab6ef",
   "metadata": {},
   "outputs": [
    {
     "name": "stdout",
     "output_type": "stream",
     "text": [
      "\n",
      "Your two numbers at position 0 are -3 and 78.\n",
      "When added, they are 75.\n",
      "When you subtract 78 from -3, you get -81.\n",
      "When you multiply them, you get -234.\n",
      "\n",
      "Your two numbers at position 1 are 55 and -44.\n",
      "When added, they are 11.\n",
      "When you subtract -44 from 55, you get 99.\n",
      "When you multiply them, you get -2420.\n",
      "\n",
      "Your two numbers at position 2 are 29 and 8.\n",
      "When added, they are 37.\n",
      "When you subtract 8 from 29, you get 21.\n",
      "When you multiply them, you get 232.\n",
      "\n",
      "Your two numbers at position 3 are 87 and -91.\n",
      "When added, they are -4.\n",
      "When you subtract -91 from 87, you get 178.\n",
      "When you multiply them, you get -7917.\n"
     ]
    }
   ],
   "source": [
    "def add_two_numbers(num_1, num_2):\n",
    "    sum=num_1+num_2\n",
    "    return sum\n",
    "\n",
    "def sub_two_numbers(num_1, num_2):\n",
    "    sub=num_1-num_2\n",
    "    return sub\n",
    "\n",
    "def mult_two_numbers(num_1, num_2):\n",
    "    mult=num_1*num_2\n",
    "    return mult\n",
    "\n",
    "list_1=[-3, 55, 29, 87]\n",
    "list_2=[78, -44, 8, -91]\n",
    "\n",
    "# We can call a certain item in a list by referring to its position by number. \n",
    "# Lists start at 0. \n",
    "# Since our list has four items, they are at positions 0, 1, 2, 3\n",
    "# Naught = _0\n",
    "for index in [0, 1, 2, 3]:\n",
    "    first_number=list_1[index]\n",
    "    second_number=list_2[index]\n",
    "    \n",
    "    added_together=add_two_numbers(first_number, second_number)\n",
    "    subtracted=sub_two_numbers(first_number, second_number)\n",
    "    mult_together=mult_two_numbers(first_number, second_number)\n",
    "\n",
    "    print()\n",
    "    print(f'Your two numbers at position {index} are {first_number} and {second_number}.')\n",
    "    print(f'When added, they are {added_together}.')\n",
    "    print(f'When you subtract {second_number} from {first_number}, you get {subtracted}.')\n",
    "    print(f'When you multiply them, you get {mult_together}.')"
   ]
  },
  {
   "cell_type": "markdown",
   "id": "8f7cc192",
   "metadata": {},
   "source": [
    "# TypeErrors"
   ]
  },
  {
   "cell_type": "markdown",
   "id": "5745b941",
   "metadata": {},
   "source": [
    "When something goes wrong in code, Python will try to communicate what happened. It will provide a line, the error type, and some brief description. There are **many** error types (https://docs.python.org/3/library/exceptions.html). No need to memorize them -- you'll become familiar with the ones you see the most. Let's see an extremely common example: SyntaxError."
   ]
  },
  {
   "cell_type": "code",
   "execution_count": 4,
   "id": "dc621089",
   "metadata": {},
   "outputs": [
    {
     "ename": "SyntaxError",
     "evalue": "Missing parentheses in call to 'print'. Did you mean print(...)? (3218521824.py, line 1)",
     "output_type": "error",
     "traceback": [
      "\u001b[0;36m  Cell \u001b[0;32mIn[4], line 1\u001b[0;36m\u001b[0m\n\u001b[0;31m    print \"I meant to do that\"\u001b[0m\n\u001b[0m    ^\u001b[0m\n\u001b[0;31mSyntaxError\u001b[0m\u001b[0;31m:\u001b[0m Missing parentheses in call to 'print'. Did you mean print(...)?\n"
     ]
    }
   ],
   "source": [
    "print \"I meant to do that\""
   ]
  },
  {
   "cell_type": "markdown",
   "id": "a92eaee3",
   "metadata": {},
   "source": [
    "With try-except-finally, we can make an exception to do something special if a certain error type occurs."
   ]
  },
  {
   "cell_type": "code",
   "execution_count": 5,
   "id": "05a10701",
   "metadata": {},
   "outputs": [
    {
     "ename": "SyntaxError",
     "evalue": "Missing parentheses in call to 'print'. Did you mean print(...)? (1251966742.py, line 3)",
     "output_type": "error",
     "traceback": [
      "\u001b[0;36m  Cell \u001b[0;32mIn[5], line 3\u001b[0;36m\u001b[0m\n\u001b[0;31m    print \"I meant to do that\"\u001b[0m\n\u001b[0m    ^\u001b[0m\n\u001b[0;31mSyntaxError\u001b[0m\u001b[0;31m:\u001b[0m Missing parentheses in call to 'print'. Did you mean print(...)?\n"
     ]
    }
   ],
   "source": [
    "# Can we catch this error?\n",
    "try: \n",
    "    print \"I meant to do that\"\n",
    "except SyntaxError:\n",
    "    print(\"Phew. Looks like I caught it.\")\n",
    "finally:\n",
    "    print(\"At least the code finished.\")"
   ]
  },
  {
   "cell_type": "markdown",
   "id": "4b9eae1a",
   "metadata": {},
   "source": [
    "Okay, another example."
   ]
  },
  {
   "cell_type": "code",
   "execution_count": 7,
   "id": "de0faecd",
   "metadata": {},
   "outputs": [
    {
     "name": "stdout",
     "output_type": "stream",
     "text": [
      "Let's divide two numbers.\n",
      "Type any integer: 84\n",
      "Type 0: 0\n"
     ]
    },
    {
     "ename": "ZeroDivisionError",
     "evalue": "division by zero",
     "output_type": "error",
     "traceback": [
      "\u001b[0;31m---------------------------------------------------------------------------\u001b[0m",
      "\u001b[0;31mZeroDivisionError\u001b[0m                         Traceback (most recent call last)",
      "Cell \u001b[0;32mIn[7], line 6\u001b[0m\n\u001b[1;32m      4\u001b[0m num_1\u001b[38;5;241m=\u001b[39m\u001b[38;5;28mint\u001b[39m(\u001b[38;5;28minput\u001b[39m(\u001b[38;5;124m'\u001b[39m\u001b[38;5;124mType any integer: \u001b[39m\u001b[38;5;124m'\u001b[39m))\n\u001b[1;32m      5\u001b[0m num_2\u001b[38;5;241m=\u001b[39m\u001b[38;5;28mint\u001b[39m(\u001b[38;5;28minput\u001b[39m(\u001b[38;5;124m'\u001b[39m\u001b[38;5;124mType 0: \u001b[39m\u001b[38;5;124m'\u001b[39m))\n\u001b[0;32m----> 6\u001b[0m div_num_1_and_2\u001b[38;5;241m=\u001b[39m\u001b[43mnum_1\u001b[49m\u001b[38;5;241;43m/\u001b[39;49m\u001b[43mnum_2\u001b[49m\n",
      "\u001b[0;31mZeroDivisionError\u001b[0m: division by zero"
     ]
    }
   ],
   "source": [
    "# Shift+Tab will de-indent\n",
    "\n",
    "print(\"Let's divide two numbers.\")\n",
    "num_1=int(input('Type any integer: '))\n",
    "num_2=int(input('Type 0: '))\n",
    "div_num_1_and_2=num_1/num_2"
   ]
  },
  {
   "cell_type": "code",
   "execution_count": 6,
   "id": "27d6a6a1",
   "metadata": {},
   "outputs": [
    {
     "name": "stdout",
     "output_type": "stream",
     "text": [
      "Let's divide two numbers.\n",
      "Type any integer: 69\n",
      "Type 0: 0\n",
      "I didn't really mean to divide by 0 -- I know better!\n",
      "Type any nonzero integer: -10\n",
      "\n",
      "Result: 69/-10=-6.9\n"
     ]
    }
   ],
   "source": [
    "try:\n",
    "    print(\"Let's divide two numbers.\")\n",
    "    num_1=int(input('Type any integer: '))\n",
    "    num_2=int(input('Type 0: '))\n",
    "    div_num_1_and_2=num_1/num_2\n",
    "    \n",
    "except ZeroDivisionError: \n",
    "    print(\"I didn't really mean to divide by 0 -- I know better!\")\n",
    "    while True:\n",
    "        num_2=int(input('Type any nonzero integer: '))\n",
    "        if num_2 != 0:\n",
    "            break\n",
    "finally:\n",
    "    div_num_1_and_2=num_1/num_2\n",
    "    print()\n",
    "    print(f'Result: {num_1}/{num_2}={div_num_1_and_2}')"
   ]
  },
  {
   "cell_type": "markdown",
   "id": "b1f9ee87",
   "metadata": {},
   "source": [
    "# Exception Handling"
   ]
  },
  {
   "cell_type": "markdown",
   "id": "259be0e1",
   "metadata": {},
   "source": [
    "If you are expecting a potential error to occur but want the code to continue to run, try to use the except to make an exception. This is called **exception handeling**. SyntaxErrors cannot be handled. Otherwise, any other error you might see can be handled. \n",
    "\n",
    "In fact, we can even define our own errors! "
   ]
  },
  {
   "cell_type": "code",
   "execution_count": null,
   "id": "753649ea",
   "metadata": {},
   "outputs": [
    {
     "name": "stdout",
     "output_type": "stream",
     "text": [
      "Type any integer larger than 0. Your number: -33\n",
      "Sorry, not a negative integer. We want an integer larger than 0.\n",
      "Try again. You've got this!\n",
      "\n",
      "Type any integer larger than 0. Your number: apple876\n",
      "Please type an integer.\n",
      "You've got this!\n",
      "\n"
     ]
    }
   ],
   "source": [
    "# 'class' is a new type of object that we won't cover in this course. Treat it like a special type of function.\n",
    "# If you want to make user-defined exceptions, this is the way to do it. \n",
    "class Negative_Exception(Exception):\n",
    "    'Raised when a negative integer is input.'\n",
    "    pass\n",
    "\n",
    "class Zero_Exception(Exception):\n",
    "    'Raised when 0 is input.'\n",
    "    pass\n",
    "\n",
    "\n",
    "# A 'while' loop we created previously that was modified to catch three exceptions: two user and one built-in.\n",
    "# while True will run until a break occurs. Look ahead and you'll see the break occurs in line 48.\n",
    "while True:\n",
    "    # Do this. \n",
    "    # If there is an exception, go to that except line. \n",
    "    # Otherwise, finish the try and go to finally.\n",
    "    try:\n",
    "        # Since user_number will not be defined if an error occurs with input, \n",
    "        # we initially set user_number to be something we can track\n",
    "        user_number=''\n",
    "        user_number=int(input('Type any integer larger than 0. Your number: '))\n",
    "        \n",
    "        if user_number < 0:\n",
    "            # To say a user-defined exception occured, use raise\n",
    "            raise Negative_Exception\n",
    "        \n",
    "        elif user_number == 0:\n",
    "            # To say a user-defined exception occured, use raise\n",
    "            raise Zero_Exception\n",
    "    \n",
    "    # This only runs if the user-defined exception Negative_Exception is raised\n",
    "    except Negative_Exception:\n",
    "        print('Sorry, not a negative integer. We want an integer larger than 0.')\n",
    "        \n",
    "    # This only runs if the user-defined exception Zero_Exception is raised\n",
    "    except Zero_Exception:\n",
    "        print('Sorry, not 0. We want an integer larger than 0.')\n",
    "        \n",
    "    # This only runs if the input is not an integer (for example, if you typed a word).\n",
    "    except ValueError:\n",
    "        print(f'Please type an integer.')\n",
    "    \n",
    "    # This runs as long as there is no SynatxError in the code\n",
    "    finally:\n",
    "        # Since user_number will not be defined if an error occurs with input,\n",
    "        # we initially set user_number to be ''. \n",
    "        # Seeing '' here means the user put a non-integer and the while loop will continue.\n",
    "        if user_number == '':\n",
    "            print(\"You've got this!\\n\")\n",
    "        \n",
    "        # We got a positive integer! We use break to exit the while loop.\n",
    "        elif user_number > 0:\n",
    "            print(f'Thank you for your integer. I will take good care of {user_number}.\\n')\n",
    "            break\n",
    "        \n",
    "        # We got either 0 or a negative integer. The while loop will continue.\n",
    "        else:\n",
    "            print(\"Try again. You've got this!\\n\")"
   ]
  },
  {
   "cell_type": "code",
   "execution_count": null,
   "id": "94f0950d",
   "metadata": {},
   "outputs": [],
   "source": []
  }
 ],
 "metadata": {
  "kernelspec": {
   "display_name": "Python 3 (ipykernel)",
   "language": "python",
   "name": "python3"
  },
  "language_info": {
   "codemirror_mode": {
    "name": "ipython",
    "version": 3
   },
   "file_extension": ".py",
   "mimetype": "text/x-python",
   "name": "python",
   "nbconvert_exporter": "python",
   "pygments_lexer": "ipython3",
   "version": "3.11.3"
  }
 },
 "nbformat": 4,
 "nbformat_minor": 5
}
