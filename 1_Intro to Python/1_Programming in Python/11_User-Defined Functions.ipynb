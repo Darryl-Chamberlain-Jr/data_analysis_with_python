{
 "cells": [
  {
   "cell_type": "markdown",
   "id": "428dda8c",
   "metadata": {},
   "source": [
    "# User-Defined Functions"
   ]
  },
  {
   "cell_type": "markdown",
   "id": "0e1c015f",
   "metadata": {},
   "source": [
    "Let's say I want to do something again and again, but don't want it keep repeating it in my code.  Defining a **function** can make that process easy! We have used Python-defined functions like print(), but we can also create our own functions. Let's look at an example below."
   ]
  },
  {
   "cell_type": "code",
   "execution_count": null,
   "id": "d1cab6ef",
   "metadata": {},
   "outputs": [],
   "source": [
    "def add_two_numbers(num_1, num_2):\n",
    "    sum=num_1+num_2\n",
    "    return sum\n",
    "\n",
    "def sub_two_numbers(num_1, num_2):\n",
    "    sub=num_1-num_2\n",
    "    return sub\n",
    "\n",
    "def mult_two_numbers(num_1, num_2):\n",
    "    mult=num_1*num_2\n",
    "    return mult\n",
    "\n",
    "list_1=[-3, 55, 29, 87]\n",
    "list_2=[78, -44, 8, -91]\n",
    "\n",
    "# We can call a certain item in a list by referring to its position by number. \n",
    "# Lists start at 0. \n",
    "# Since our list has four items, they are at positions 0, 1, 2, 3\n",
    "# Naught = _0\n",
    "print(f'List 1 is: {list_1}')\n",
    "print(f'List 2 is: {list_2}')\n",
    "for index in [0, 1, 2, 3]:\n",
    "    first_number=list_1[index]\n",
    "    second_number=list_2[index]\n",
    "    \n",
    "    added_together=add_two_numbers(first_number, second_number)\n",
    "    subtracted=sub_two_numbers(first_number, second_number)\n",
    "    mult_together=mult_two_numbers(first_number, second_number)\n",
    "\n",
    "    print()\n",
    "    print(f'Your two numbers at position {index} are {first_number} and {second_number}.')\n",
    "    print(f'When added, they are {added_together}.')\n",
    "    print(f'When you subtract {second_number} from {first_number}, you get {subtracted}.')\n",
    "    print(f'When you multiply them, you get {mult_together}.')"
   ]
  }
 ],
 "metadata": {
  "kernelspec": {
   "display_name": "Python 3",
   "language": "python",
   "name": "python3"
  },
  "language_info": {
   "codemirror_mode": {
    "name": "ipython",
    "version": 3
   },
   "file_extension": ".py",
   "mimetype": "text/x-python",
   "name": "python",
   "nbconvert_exporter": "python",
   "pygments_lexer": "ipython3",
   "version": "3.13.0"
  }
 },
 "nbformat": 4,
 "nbformat_minor": 5
}
