{
 "cells": [
  {
   "cell_type": "markdown",
   "id": "ed43e68d",
   "metadata": {},
   "source": [
    "# Conditional Statements\n",
    "\n",
    "We will commonly need to perform certain calculations or functions IF something occurs. The most basic type of conditional statement is if-elif-else statements. Try to predict what the next cell will print."
   ]
  },
  {
   "cell_type": "code",
   "execution_count": null,
   "id": "7619ed69",
   "metadata": {},
   "outputs": [],
   "source": [
    "variable_in_question=71\n",
    "\n",
    "if variable_in_question >= 100:\n",
    "    print(\"Wow that's a big number!\")\n",
    "elif variable_in_question >= 50: \n",
    "    print(\"Still a pretty big number.\")\n",
    "else: \n",
    "    print(\"Not that big of a number.\")"
   ]
  },
  {
   "cell_type": "markdown",
   "id": "23d90a63",
   "metadata": {},
   "source": [
    "Notice that only one thing gets printed. Once you satisfy a condition, it skips to the end of the if-elif-else statements. Try changing the variable_in_question value and see what is printed as you make changes."
   ]
  },
  {
   "cell_type": "markdown",
   "id": "53261960",
   "metadata": {},
   "source": [
    "# Using the Input Function"
   ]
  },
  {
   "cell_type": "markdown",
   "id": "146f5889",
   "metadata": {},
   "source": [
    "The *input()* function allows the user to type something for use later. We could have written \n",
    "\n",
    "variable_in_question=input('Type any integer')\n",
    "\n",
    "in the previous example. It would have prompted the user to write in a number they wanted. Let's implement this in another example to test your knowledge of everything we've covered up to this point. "
   ]
  },
  {
   "cell_type": "code",
   "execution_count": null,
   "id": "c16b1a91",
   "metadata": {},
   "outputs": [],
   "source": [
    "score_on_test=input(\"Type an integer between 0 and 100: \")\n",
    "\n",
    "if score_on_test==100:\n",
    "    print(\"Amazing!\")\n",
    "elif score_on_test>=90:\n",
    "    print(\"You got an A, great job!\")\n",
    "elif score_on_test>=80: \n",
    "    print(\"You got an B, great job!\")\n",
    "elif score_on_test>=70:\n",
    "    print(\"You got a C, not bad!\")\n",
    "else:\n",
    "    print(\"You didn't pass but you can always try again.\")"
   ]
  },
  {
   "cell_type": "markdown",
   "id": "8b882455",
   "metadata": {},
   "source": [
    "You know how I have been emphasizing knowing the types of objects you are working with? The *input()* function always returns a string. If we want it to be an integer, we need to convert from string to integer. Luckily, there is a function to do that: *int()*. "
   ]
  },
  {
   "cell_type": "code",
   "execution_count": null,
   "id": "7d9c831d",
   "metadata": {},
   "outputs": [],
   "source": [
    "score_on_test=int(input(\"Type an integer between 0 and 100: \"))\n",
    "\n",
    "if score_on_test==100:\n",
    "    print(\"Amazing!\")\n",
    "elif score_on_test>=90:\n",
    "    print(\"You got an A, great job!\")\n",
    "elif score_on_test>=80: \n",
    "    print(\"You got an B, great job!\")\n",
    "elif score_on_test>=70:\n",
    "    print(\"You got a C, not bad!\")\n",
    "else:\n",
    "    print(\"You didn't pass but you can always try again.\")"
   ]
  }
 ],
 "metadata": {
  "kernelspec": {
   "display_name": "Python 3 (ipykernel)",
   "language": "python",
   "name": "python3"
  },
  "language_info": {
   "codemirror_mode": {
    "name": "ipython",
    "version": 3
   },
   "file_extension": ".py",
   "mimetype": "text/x-python",
   "name": "python",
   "nbconvert_exporter": "python",
   "pygments_lexer": "ipython3",
   "version": "3.11.3"
  }
 },
 "nbformat": 4,
 "nbformat_minor": 5
}
