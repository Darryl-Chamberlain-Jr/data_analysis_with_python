{
 "cells": [
  {
   "cell_type": "markdown",
   "id": "2cdf042b",
   "metadata": {},
   "source": [
    "# Formatting Strings"
   ]
  },
  {
   "cell_type": "markdown",
   "id": "b79b7b3e",
   "metadata": {},
   "source": [
    "There are a few ways to format strings. Since this course is about the bare minimums to code for Data Science, we'll focus on learning just one rather than learning them all. You are always welcome to read more about the other formats [%-formatting and str.format()], but I find the following format to be the easiest to read and use. \n",
    "\n",
    "## f-strings\n",
    "**f-strings** were introduced in Python 3.6 (release date: Dec 2016) as a way to improve the readability of placing variables in strings. Up until this point in the course, we've always defined strings using either \" \" or ' '. An f-string declaration is easy to remember: you put an f in front of the normal string definition. Let's see some examples. "
   ]
  },
  {
   "cell_type": "code",
   "execution_count": null,
   "id": "4a03ed57",
   "metadata": {},
   "outputs": [],
   "source": [
    "# In the \"Conditional Statements\" lesson, we wrote the following lines of code to sum all values from 0 to 9. \n",
    "total_sum=0\n",
    "for value in range(0, 10):\n",
    "    print('Value:', value)\n",
    "    total_sum=total_sum+value\n",
    "    print('Running Total:', total_sum)\n",
    "\n",
    "print('Final total', total_sum)"
   ]
  },
  {
   "cell_type": "code",
   "execution_count": null,
   "id": "136b3c66",
   "metadata": {},
   "outputs": [],
   "source": [
    "# Let's use f-strings to rewrite our print statements.\n",
    "total_sum=0\n",
    "for value in range(0, 10):\n",
    "    print(f'Value: {value}')\n",
    "    total_sum=total_sum+value\n",
    "    print(f'Running Total: {total_sum}')\n",
    "\n",
    "print(f'Final total {total_sum}')"
   ]
  },
  {
   "cell_type": "markdown",
   "id": "97b82129",
   "metadata": {},
   "source": [
    "Slightly easier to read, but no real difference. f-strings make a bigger difference when you want to insert many variables. Let's go back to our I-9 example. "
   ]
  },
  {
   "cell_type": "code",
   "execution_count": null,
   "id": "0436a545",
   "metadata": {},
   "outputs": [],
   "source": [
    "# Our previous example. The print statements aren't very descriptive, so let's change that.\n",
    "\n",
    "# Establishes Identity and Employment Authorization\n",
    "list_A_documents=['U.S. Passport', \n",
    "                  'Permanent Resident Card', \n",
    "                  'Employment Authorization Document Card', \n",
    "                  'Foreign Passport with Endorsement to Work'\n",
    "                 ]\n",
    "# Establishes Identity\n",
    "list_B_documents=[\"Driver's License\"]\n",
    "# Establishes Employment Authorization\n",
    "list_C_documents=['Social Security Number',\n",
    "                  'Birth Certificate', \n",
    "                  'Certification of Birth Abroad', \n",
    "                  'Native American tribal document'\n",
    "                 ]\n",
    "\n",
    "first_document=input('What type of document are you submitting first? ')\n",
    "\n",
    "if first_document in list_A_documents:\n",
    "    print('Verdict: You have established identity and employment authorization.')\n",
    "    \n",
    "elif (first_document in list_B_documents) or (first_document in list_C_documents):\n",
    "    second_document=input('Please provide another document to establish both identity and employment authorization. ')\n",
    "    \n",
    "    # Two scenarios that give a document in both List B and List C\n",
    "    scenario_1=(first_document in list_B_documents) and (second_document in list_C_documents)\n",
    "    scenario_2=(first_document in list_C_documents) and (second_document in list_B_documents)\n",
    "    \n",
    "    if scenario_1 or scenario_2:\n",
    "        print()\n",
    "        print('Verdict: You have established identity and employment authorization.')\n",
    "        \n",
    "    else:\n",
    "        print()\n",
    "        print('Verdict: You have not established identity and employment authorization. Please try again.')\n",
    "\n",
    "else:\n",
    "    print('Verdict: Your document does not establish identity nor employment authorization. Please try again.')"
   ]
  },
  {
   "cell_type": "code",
   "execution_count": null,
   "id": "1e9cf537",
   "metadata": {},
   "outputs": [],
   "source": [
    "# I-9 Document Checking Script 2.0\n",
    "\n",
    "# Establishes Identity and Employment Authorization\n",
    "list_A_documents=['U.S. Passport', \n",
    "                  'Permanent Resident Card', \n",
    "                  'Employment Authorization Document Card', \n",
    "                  'Foreign Passport with Endorsement to Work'\n",
    "                 ]\n",
    "# Establishes Identity\n",
    "list_B_documents=[\"Driver's License\"]\n",
    "# Establishes Employment Authorization\n",
    "list_C_documents=['Social Security Number',\n",
    "                  'Birth Certificate', \n",
    "                  'Certification of Birth Abroad', \n",
    "                  'Native American tribal document'\n",
    "                 ]\n",
    "\n",
    "doc_1=input('What type of document are you submitting first? ')\n",
    "doc_1_in_A=(doc_1 in list_A_documents)\n",
    "doc_1_in_B_or_C=(doc_1 in list_B_documents) or (doc_1 in list_C_documents)\n",
    "\n",
    "if doc_1_in_A:\n",
    "    print(f'Verdict: You have established identity and employment authorization as {doc_1} is a list A document.')\n",
    "\n",
    "elif doc_1_in_B_or_C:\n",
    "    if doc_1 in list_B_documents:\n",
    "        list_B_or_C='list B'\n",
    "        other_list='list C'\n",
    "        identity_or_authorization='employment authorization'\n",
    "    \n",
    "    # doc_1 in list_C_documents:\n",
    "    else:\n",
    "        list_B_or_C='list C'\n",
    "        other_list='list B'\n",
    "        identity_or_authorization='identity'\n",
    "    \n",
    "    # Splitting response sentences for readability\n",
    "    first_sentence_response=f'Your document {doc_1} is in {list_B_or_C}.'\n",
    "    second_sentence_response=f'Please provide a document in {other_list} to establish {identity_or_authorization}.'\n",
    "    doc_2=input(f'{first_sentence_response} {second_sentence_response}')\n",
    "    \n",
    "    # Two scenarios that give a document in both List B and List C\n",
    "    doc_1_in_B_doc_2_in_C=(doc_1 in list_B_documents) and (doc_2 in list_C_documents)\n",
    "    doc_1_in_C_doc_2_in_B=(doc_1 in list_C_documents) and (doc_2 in list_B_documents)\n",
    "    \n",
    "    if doc_1_in_B_doc_2_in_C or doc_1_in_C_doc_2_in_B:\n",
    "        print()\n",
    "        print(f'Verdict: You have established identity and employment authorization with {doc_1} and {doc_2}.')\n",
    "    \n",
    "    # First document established something, but they didn't establish what they were supposed to with the second document.\n",
    "    else:\n",
    "        print()\n",
    "        print(f'Verdict: You did not establish {identity_or_authorization} with {doc_2}. Please try again.')\n",
    "\n",
    "# First document is not in list A, B, or C\n",
    "else:\n",
    "    print(f'Verdict: Document {doc_1} does not establish identity nor employment authorization. Please try again.')"
   ]
  },
  {
   "cell_type": "markdown",
   "id": "36dfaeb6",
   "metadata": {},
   "source": [
    "See if you can spot all of the improvements we made from the first version. Did the f-strings improve the feedback from the code? \n",
    "\n",
    "This example also provides an exceptional view into how you will make iterative improvements to code as it becomes more robust! You likely also noticed we made the if and elif conditions their own descriptive variables so that it reads closer to \"human writing\". The code \"if doc_1_in_A:\" is very clear on what condition is being checked, as is \"if doc_1_in_B_or_C\". Since else is whatever is leftover, we make a comment to explicitly state what condition is happening in this part. "
   ]
  }
 ],
 "metadata": {
  "kernelspec": {
   "display_name": "Python 3 (ipykernel)",
   "language": "python",
   "name": "python3"
  },
  "language_info": {
   "codemirror_mode": {
    "name": "ipython",
    "version": 3
   },
   "file_extension": ".py",
   "mimetype": "text/x-python",
   "name": "python",
   "nbconvert_exporter": "python",
   "pygments_lexer": "ipython3",
   "version": "3.11.3"
  }
 },
 "nbformat": 4,
 "nbformat_minor": 5
}
