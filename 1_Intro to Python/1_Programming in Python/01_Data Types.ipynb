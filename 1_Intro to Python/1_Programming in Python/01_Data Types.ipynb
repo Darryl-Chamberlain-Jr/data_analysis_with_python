{
 "cells": [
  {
   "cell_type": "markdown",
   "id": "2e8db044",
   "metadata": {},
   "source": [
    "# Introduction\n",
    "\n",
    "In this lesson, we will learn the absolute fundamentals to get you coding. First, we introduce Jupyter Notebook - a web application that can interpret many different types of programming languages. In the top-right, we see it is running Python 3. At the end of the course, we will download a new language and work with it in Jupyter Notebook. For now, we learn the fundamentals of programming for Data Science using Python. "
   ]
  },
  {
   "cell_type": "markdown",
   "id": "a3ede6e4",
   "metadata": {},
   "source": [
    "When you click the \"+\" button, you create a new cell. These cells will run code separately and is helpful for working on bite-size pieces of code at a time. **Try running the cell below by clicking in the cell and then pressing the 'Run' button.**"
   ]
  },
  {
   "cell_type": "code",
   "execution_count": 1,
   "id": "84fbcffb",
   "metadata": {},
   "outputs": [
    {
     "name": "stdout",
     "output_type": "stream",
     "text": [
      "Hello World!\n"
     ]
    }
   ],
   "source": [
    "print(\"Hello World!\")"
   ]
  },
  {
   "cell_type": "markdown",
   "id": "efa809d3",
   "metadata": {},
   "source": [
    "You can see that different words in the cell are different colors. This is to help us keep track of what is happening. The word 'print' is in green because it is a **function** and the words 'Hello World!' are in red because it is a **string**. "
   ]
  },
  {
   "cell_type": "markdown",
   "id": "b1612ff2",
   "metadata": {},
   "source": [
    "# Fundamental Data Structures\n",
    "\n",
    "**A *string* is a sequence of characters and is referred to as a *str*.** We declare strings with either ' ' or \" \". Notice in our previous example, we had Hello World in parentheses. \n",
    "\n",
    "**An *integer* is a whole number and is referred to as an *int*.** Python understands that if we write a whole number without parentheses, we mean an integer. \n",
    "\n",
    "**A *float* is a real number with some decimal expansion and is referred to as a *float*.** Python understands that if we write a number with a decimal, we are dealing with floats.\n",
    "\n",
    "**A *function* takes in some data structure and outputs something else.** In our previous example, the *print* function takes in some data structure and prints it to the screen. \n",
    "\n",
    "**A *variable* is a symbolic name for some object.** This could be something as simple as \"x=33\" or \"word='apple'\".\n",
    "\n",
    "**A *list* is a collection of objects IN ORDER defined using brackets.** For example, \"[a, b, c]\". Anything can be part of a list, even more lists! These are called **nested lists**. \"[[a_1, a_2], \"Words words words\", 49]\" \n",
    "\n",
    "**A *set* is a collection of unique objects defined using braces.** For example, \"{a, b, c}\". Unlike lists, sets will throw away duplicates and is inherently unordered. "
   ]
  },
  {
   "cell_type": "markdown",
   "id": "97c71579",
   "metadata": {},
   "source": [
    "## Let's test some examples below to make sure we understand. Before running each cell, try to predict what the outcome will be."
   ]
  },
  {
   "cell_type": "code",
   "execution_count": 2,
   "id": "9922acac",
   "metadata": {},
   "outputs": [
    {
     "name": "stdout",
     "output_type": "stream",
     "text": [
      "<class 'str'>\n"
     ]
    }
   ],
   "source": [
    "example_string='Hello, I am an example string. The number 49 is larger than 21.'\n",
    "print(type(example_string))\n",
    "\n",
    "# type() function takes in a data structure and outputs its type"
   ]
  },
  {
   "cell_type": "code",
   "execution_count": 3,
   "id": "d6a25840",
   "metadata": {},
   "outputs": [
    {
     "name": "stdout",
     "output_type": "stream",
     "text": [
      "33\n",
      "<class 'str'>\n"
     ]
    }
   ],
   "source": [
    "example_number='33'\n",
    "print(example_number)\n",
    "print(type(example_number))"
   ]
  },
  {
   "cell_type": "code",
   "execution_count": 4,
   "id": "f25be2f2",
   "metadata": {},
   "outputs": [
    {
     "name": "stdout",
     "output_type": "stream",
     "text": [
      "0.42857142857142855\n"
     ]
    }
   ],
   "source": [
    "example_float=3/7\n",
    "print(example_float)"
   ]
  },
  {
   "cell_type": "markdown",
   "id": "ffbf5681",
   "metadata": {},
   "source": [
    "# Operations on Data Structures\n",
    "\n",
    "As we saw in our last example, we can perform arithmetic operations (add, subtract, multiply, divide) on numbers. What about on strings? Let's try a few different things. "
   ]
  },
  {
   "cell_type": "code",
   "execution_count": 5,
   "id": "a7ff8492",
   "metadata": {},
   "outputs": [
    {
     "name": "stdout",
     "output_type": "stream",
     "text": [
      "Hello World\n"
     ]
    }
   ],
   "source": [
    "string_1='Hello '\n",
    "string_2='World'\n",
    "adding_strings=string_1 + string_2\n",
    "print(adding_strings)"
   ]
  },
  {
   "cell_type": "code",
   "execution_count": 7,
   "id": "9b381e2c",
   "metadata": {},
   "outputs": [
    {
     "name": "stdout",
     "output_type": "stream",
     "text": [
      "Hello Hello Hello Hello Hello \n"
     ]
    }
   ],
   "source": [
    "multiplying_strings=string_1*5\n",
    "print(multiplying_strings)"
   ]
  },
  {
   "cell_type": "code",
   "execution_count": 8,
   "id": "9962e6b6",
   "metadata": {},
   "outputs": [
    {
     "name": "stdout",
     "output_type": "stream",
     "text": [
      "555555\n"
     ]
    }
   ],
   "source": [
    "string_number='5'\n",
    "print(string_number*6)"
   ]
  },
  {
   "cell_type": "markdown",
   "id": "053aa574",
   "metadata": {},
   "source": [
    "This last example should emphasize how knowing the type of the object we are working with is incredibly important! "
   ]
  },
  {
   "cell_type": "markdown",
   "id": "a1231cb5",
   "metadata": {},
   "source": [
    "# Relations on Data Structures\n",
    "\n",
    "We can perform basic arithmetic on numbers and even on strings. In mathematics we can compare numbers using equal to (=), less than (<), and greater than (>), so can we do that in Python? Yes! But we will need to use a double equal sign to check if two things are equal, since we have been using one equal sign to define variables. \n",
    "\n",
    "When making these comparisons, Python will respond with True or False. Try to guess whether Python will state these following comparisons as True or False. "
   ]
  },
  {
   "cell_type": "code",
   "execution_count": 11,
   "id": "c4a77e9b",
   "metadata": {
    "scrolled": true
   },
   "outputs": [
    {
     "name": "stdout",
     "output_type": "stream",
     "text": [
      "True\n",
      "True\n"
     ]
    },
    {
     "ename": "TypeError",
     "evalue": "'<' not supported between instances of 'str' and 'int'",
     "output_type": "error",
     "traceback": [
      "\u001b[0;31m---------------------------------------------------------------------------\u001b[0m",
      "\u001b[0;31mTypeError\u001b[0m                                 Traceback (most recent call last)",
      "Cell \u001b[0;32mIn[11], line 7\u001b[0m\n\u001b[1;32m      4\u001b[0m example_2\u001b[38;5;241m=\u001b[39m(\u001b[38;5;241m6\u001b[39m\u001b[38;5;241m==\u001b[39m\u001b[38;5;241m6\u001b[39m)\n\u001b[1;32m      5\u001b[0m \u001b[38;5;28mprint\u001b[39m(example_2)\n\u001b[0;32m----> 7\u001b[0m example_3\u001b[38;5;241m=\u001b[39m(\u001b[38;5;124;43m'\u001b[39;49m\u001b[38;5;124;43m6\u001b[39;49m\u001b[38;5;124;43m'\u001b[39;49m\u001b[43m \u001b[49m\u001b[38;5;241;43m<\u001b[39;49m\u001b[43m \u001b[49m\u001b[38;5;241;43m12\u001b[39;49m)\n\u001b[1;32m      8\u001b[0m \u001b[38;5;28mprint\u001b[39m(example_3)\n\u001b[1;32m     10\u001b[0m example_4\u001b[38;5;241m=\u001b[39m(\u001b[38;5;241m7\u001b[39m\u001b[38;5;241m!=\u001b[39m\u001b[38;5;241m6\u001b[39m)\n",
      "\u001b[0;31mTypeError\u001b[0m: '<' not supported between instances of 'str' and 'int'"
     ]
    }
   ],
   "source": [
    "example_1=3<5\n",
    "print(example_1)\n",
    "\n",
    "example_2=(6==6)\n",
    "print(example_2)\n",
    "\n",
    "example_3=('6' < 12)\n",
    "print(example_3)\n",
    "\n",
    "example_4=(7!=6)\n",
    "print(example_4)"
   ]
  },
  {
   "cell_type": "markdown",
   "id": "38bfbab8",
   "metadata": {},
   "source": [
    "Reading error messages is a critical skill when learning to code and we will look more closely at it in Module 3. For now, just read the last line: **'<' not supported between instances of 'str' and 'int'**. It is telling us that Python doesn't understand how to compare a string '6' and an integer 12 and so gives us an error. We also notice the code stops once it hits an error and does not continue. "
   ]
  },
  {
   "cell_type": "markdown",
   "id": "ed43e68d",
   "metadata": {},
   "source": [
    "# Conditional Statements\n",
    "\n",
    "We will commonly need to perform certain calculations or functions IF something occurs. The most basic type of conditional statement is if-elif-else statements. Try to predict what the next cell will print."
   ]
  },
  {
   "cell_type": "code",
   "execution_count": 12,
   "id": "7619ed69",
   "metadata": {},
   "outputs": [
    {
     "name": "stdout",
     "output_type": "stream",
     "text": [
      "Still a pretty big number.\n"
     ]
    }
   ],
   "source": [
    "variable_in_question=71\n",
    "\n",
    "if variable_in_question >= 100:\n",
    "    print(\"Wow that's a big number!\")\n",
    "elif variable_in_question >= 50: \n",
    "    print(\"Still a pretty big number.\")\n",
    "else: \n",
    "    print(\"Not that big of a number.\")\n",
    "    \n"
   ]
  },
  {
   "cell_type": "markdown",
   "id": "23d90a63",
   "metadata": {},
   "source": [
    "Notice that only one thing gets printed. Once you satisfy a condition, it skips to the end of the if-elif-else statements. Try changing the variable_in_question and see what is printed as you make changes."
   ]
  },
  {
   "cell_type": "markdown",
   "id": "53261960",
   "metadata": {},
   "source": [
    "# Using the Input Function"
   ]
  },
  {
   "cell_type": "markdown",
   "id": "146f5889",
   "metadata": {},
   "source": [
    "The *input()* function allows the user to type something for use later. We could have written \n",
    "\n",
    "variable_in_question=input('Type any integer')\n",
    "\n",
    "in the previous example. It would have prompted the user to write in a number they wanted. Let's implement this in another example to test your knowledge of everything we've covered up to this point. "
   ]
  },
  {
   "cell_type": "code",
   "execution_count": 13,
   "id": "c16b1a91",
   "metadata": {},
   "outputs": [
    {
     "name": "stdout",
     "output_type": "stream",
     "text": [
      "Type an integer between 0 and 100: 71\n"
     ]
    },
    {
     "ename": "TypeError",
     "evalue": "'>=' not supported between instances of 'str' and 'int'",
     "output_type": "error",
     "traceback": [
      "\u001b[0;31m---------------------------------------------------------------------------\u001b[0m",
      "\u001b[0;31mTypeError\u001b[0m                                 Traceback (most recent call last)",
      "Cell \u001b[0;32mIn[13], line 5\u001b[0m\n\u001b[1;32m      3\u001b[0m \u001b[38;5;28;01mif\u001b[39;00m score_on_test\u001b[38;5;241m==\u001b[39m\u001b[38;5;241m100\u001b[39m:\n\u001b[1;32m      4\u001b[0m     \u001b[38;5;28mprint\u001b[39m(\u001b[38;5;124m\"\u001b[39m\u001b[38;5;124mAmazing!\u001b[39m\u001b[38;5;124m\"\u001b[39m)\n\u001b[0;32m----> 5\u001b[0m \u001b[38;5;28;01melif\u001b[39;00m \u001b[43mscore_on_test\u001b[49m\u001b[38;5;241;43m>\u001b[39;49m\u001b[38;5;241;43m=\u001b[39;49m\u001b[38;5;241;43m90\u001b[39;49m:\n\u001b[1;32m      6\u001b[0m     \u001b[38;5;28mprint\u001b[39m(\u001b[38;5;124m\"\u001b[39m\u001b[38;5;124mYou got an A, great job!\u001b[39m\u001b[38;5;124m\"\u001b[39m)\n\u001b[1;32m      7\u001b[0m \u001b[38;5;28;01melif\u001b[39;00m score_on_test\u001b[38;5;241m>\u001b[39m\u001b[38;5;241m=\u001b[39m\u001b[38;5;241m80\u001b[39m: \n",
      "\u001b[0;31mTypeError\u001b[0m: '>=' not supported between instances of 'str' and 'int'"
     ]
    }
   ],
   "source": [
    "score_on_test=input(\"Type an integer between 0 and 100: \")\n",
    "\n",
    "if score_on_test==100:\n",
    "    print(\"Amazing!\")\n",
    "elif score_on_test>=90:\n",
    "    print(\"You got an A, great job!\")\n",
    "elif score_on_test>=80: \n",
    "    print(\"You got an B, great job!\")\n",
    "elif score_on_test>=70:\n",
    "    print(\"You got a C, not bad!\")\n",
    "else:\n",
    "    print(\"You didn't pass but you can always try again.\")"
   ]
  },
  {
   "cell_type": "markdown",
   "id": "8b882455",
   "metadata": {},
   "source": [
    "You know how I have been emphasizing knowing the types of objects you are working with? The *input()* function always returns a string. If we want it to be an integer, we need to convert from string to integer. Luckily, there is a function to do that: *int()*. "
   ]
  },
  {
   "cell_type": "code",
   "execution_count": 14,
   "id": "7d9c831d",
   "metadata": {},
   "outputs": [
    {
     "name": "stdout",
     "output_type": "stream",
     "text": [
      "Type an integer between 0 and 100: 71\n",
      "You got a C, not bad!\n"
     ]
    }
   ],
   "source": [
    "score_on_test=int(input(\"Type an integer between 0 and 100: \"))\n",
    "\n",
    "if score_on_test==100:\n",
    "    print(\"Amazing!\")\n",
    "elif score_on_test>=90:\n",
    "    print(\"You got an A, great job!\")\n",
    "elif score_on_test>=80: \n",
    "    print(\"You got an B, great job!\")\n",
    "elif score_on_test>=70:\n",
    "    print(\"You got a C, not bad!\")\n",
    "else:\n",
    "    print(\"You didn't pass but you can always try again.\")"
   ]
  },
  {
   "cell_type": "markdown",
   "id": "709214f9",
   "metadata": {},
   "source": [
    "In this lesson, we learned some of the fundamental programming vocabulary. As a way to study from this lesson, try to make a running list of the different objects and functions we used. You are now ready to move on to the Skills Practice assignment in Canvas. Good luck!"
   ]
  }
 ],
 "metadata": {
  "kernelspec": {
   "display_name": "Python 3 (ipykernel)",
   "language": "python",
   "name": "python3"
  },
  "language_info": {
   "codemirror_mode": {
    "name": "ipython",
    "version": 3
   },
   "file_extension": ".py",
   "mimetype": "text/x-python",
   "name": "python",
   "nbconvert_exporter": "python",
   "pygments_lexer": "ipython3",
   "version": "3.11.3"
  }
 },
 "nbformat": 4,
 "nbformat_minor": 5
}
