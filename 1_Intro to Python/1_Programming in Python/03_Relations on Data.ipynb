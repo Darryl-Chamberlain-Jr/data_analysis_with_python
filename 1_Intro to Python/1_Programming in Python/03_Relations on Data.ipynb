{
 "cells": [
  {
   "cell_type": "markdown",
   "id": "053aa574",
   "metadata": {},
   "source": [
    "This last example should emphasize how knowing the type of the object we are working with is incredibly important! "
   ]
  },
  {
   "cell_type": "markdown",
   "id": "a1231cb5",
   "metadata": {},
   "source": [
    "# Relations on Data Structures\n",
    "\n",
    "We can perform basic arithmetic on numbers and even on strings. In mathematics we can compare numbers using equal to (=), less than (<), and greater than (>), so can we do that in Python? Yes! But we will need to use a double equal sign to check if two things are equal, since we have been using one equal sign to define variables. \n",
    "\n",
    "When making these comparisons, Python will respond with True or False. Try to guess whether Python will state these following comparisons as True or False. "
   ]
  },
  {
   "cell_type": "code",
   "execution_count": null,
   "id": "c4a77e9b",
   "metadata": {
    "scrolled": true
   },
   "outputs": [],
   "source": [
    "example_1=3<5\n",
    "print(example_1)\n",
    "\n",
    "example_2=(6==6)\n",
    "print(example_2)\n",
    "\n",
    "example_3=('6' < 12)\n",
    "print(example_3)\n",
    "\n",
    "example_4=(7!=6)\n",
    "print(example_4)"
   ]
  },
  {
   "cell_type": "markdown",
   "id": "38bfbab8",
   "metadata": {},
   "source": [
    "Reading error messages is a critical skill when learning to code and we will look more closely at it in Module 3. For now, just read the last line: **'<' not supported between instances of 'str' and 'int'**. It is telling us that Python doesn't understand how to compare a string '6' and an integer 12 and so gives us an error. We also notice the code stops once it hits an error and does not continue. "
   ]
  },
  {
   "cell_type": "code",
   "execution_count": null,
   "id": "2f27b3b1",
   "metadata": {},
   "outputs": [],
   "source": [
    "example_4=(7!=6) # we can read != as 'not equal to'\n",
    "print(example_4)"
   ]
  },
  {
   "cell_type": "code",
   "execution_count": null,
   "id": "c5322f39",
   "metadata": {},
   "outputs": [],
   "source": [
    "example_5=('apple'=='apples')\n",
    "print(example_5)"
   ]
  },
  {
   "cell_type": "code",
   "execution_count": null,
   "id": "0ac2cd99",
   "metadata": {},
   "outputs": [],
   "source": [
    "ex_6_left='apple'\n",
    "ex_6_right='apple '\n",
    "example_6=(ex_6_left==ex_6_right)\n",
    "print(ex_6_left)\n",
    "print(ex_6_right)\n",
    "print(example_6)"
   ]
  },
  {
   "cell_type": "markdown",
   "id": "7f21d517",
   "metadata": {},
   "source": [
    "Be careful, as a space is a character in a string and can throw off comparisons! It's common to use the function .strip() to remove excess space."
   ]
  },
  {
   "cell_type": "code",
   "execution_count": null,
   "id": "0ec2ea01",
   "metadata": {},
   "outputs": [],
   "source": [
    "ex_7_left=ex_6_left.strip(\" \") # This can be read as define ex_7_left as stripping all white space ' ' from ex_6_left\n",
    "ex_7_right=ex_6_right.strip(\" \")\n",
    "example_7=(ex_7_left==ex_7_right)\n",
    "print(ex_7_left)\n",
    "print(ex_7_right)\n",
    "print(example_7)"
   ]
  },
  {
   "cell_type": "markdown",
   "id": "ce2b65ab",
   "metadata": {},
   "source": [
    "Strip will be one of our go-to functions when it comes to cleaning data later in the course. Let's see another example."
   ]
  },
  {
   "cell_type": "code",
   "execution_count": null,
   "id": "41695ef8",
   "metadata": {},
   "outputs": [],
   "source": [
    "ex_8_left='(845)986-2840-'\n",
    "\n",
    "ex_8_left=ex_8_left.strip(\"()-\")\n",
    "ex_8_right='8459862840'\n",
    "example_8=(ex_8_left==ex_8_right)\n",
    "print(ex_8_left)\n",
    "print(ex_8_right)\n",
    "print(example_8)"
   ]
  },
  {
   "cell_type": "markdown",
   "id": "fa1c457e",
   "metadata": {},
   "source": [
    "Here we see strip only removed characters we included from the beginning and end of the string. To remove *all* characters from the string, we'll need another function that we will introduce later in the course. For now, we'll mostly use string.strip() to remove excess white space before and after our string."
   ]
  }
 ],
 "metadata": {
  "kernelspec": {
   "display_name": "Python 3",
   "language": "python",
   "name": "python3"
  },
  "language_info": {
   "codemirror_mode": {
    "name": "ipython",
    "version": 3
   },
   "file_extension": ".py",
   "mimetype": "text/x-python",
   "name": "python",
   "nbconvert_exporter": "python",
   "pygments_lexer": "ipython3",
   "version": "3.11.3"
  }
 },
 "nbformat": 4,
 "nbformat_minor": 5
}
