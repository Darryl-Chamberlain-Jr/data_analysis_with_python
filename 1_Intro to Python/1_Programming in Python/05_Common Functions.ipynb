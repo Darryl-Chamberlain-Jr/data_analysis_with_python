{
 "cells": [
  {
   "cell_type": "markdown",
   "id": "bf96dbd1",
   "metadata": {},
   "source": [
    "# Common Functions\n",
    "Below are some of the most common functions we will use in this course."
   ]
  },
  {
   "cell_type": "markdown",
   "id": "a2fae900",
   "metadata": {},
   "source": [
    "# print()"
   ]
  },
  {
   "cell_type": "code",
   "execution_count": null,
   "id": "84fbcffb",
   "metadata": {},
   "outputs": [],
   "source": [
    "print(\"Printing variables and notes to yourself will be VERY useful!\")\n",
    "print(\"I can even print\", \"multiple things in the same print function.\")"
   ]
  },
  {
   "cell_type": "markdown",
   "id": "e04dec8e",
   "metadata": {},
   "source": [
    "# input()\n",
    "This function can be useful in a variety of situations:\n",
    "- You want a user to put in some string of their choice.\n",
    "- You want long code to pause at a certain place to see what your print statements look like.\n",
    "- You are making some interactive Python program like a calculator.\n",
    "- You want to make a popup to confirm some choice by the user.\n",
    "\n",
    "Remember: input() converts everything to a string, so be sure to convert into an int or float if desired."
   ]
  },
  {
   "cell_type": "code",
   "execution_count": null,
   "id": "54d97338",
   "metadata": {},
   "outputs": [],
   "source": [
    "input('Type anything')"
   ]
  },
  {
   "cell_type": "code",
   "execution_count": null,
   "id": "0cc36ae2",
   "metadata": {},
   "outputs": [],
   "source": [
    "user_choice=input('Chose an action: \\n1-Save file\\n2-Delete file\\n3-Exit without doing anything.\\n') # \\n is a newline command and will not be printed to the user\n",
    "if user_choice=='1':\n",
    "    print('File saved!')\n",
    "elif user_choice=='2':\n",
    "    confirm_delete=input(\"Are you sure? There is no way to recover the file. Type 'DELETE' to confirm your action.\\n\")\n",
    "    if confirm_delete=='DELETE':\n",
    "        print('File deleted.')\n",
    "    else:\n",
    "        print('Delete was aborted.')\n",
    "elif user_choice=='3':\n",
    "    print('Exited without action.')\n",
    "else:\n",
    "    print('Command not recognized.')"
   ]
  },
  {
   "cell_type": "markdown",
   "id": "18b9320b",
   "metadata": {},
   "source": [
    "# len()\n",
    "We will frequently want to know the length of some object we are looking at."
   ]
  },
  {
   "cell_type": "code",
   "execution_count": null,
   "id": "211a4dfc",
   "metadata": {},
   "outputs": [],
   "source": [
    "ex_1_str='This string is 34 characters long.'\n",
    "len_ex_1=len(ex_1_str)# Length of a string\n",
    "print(ex_1_str)\n",
    "print(len_ex_1)\n",
    "print()\n",
    "\n",
    "# Length of a set\n",
    "ex_set={2, 4, 30, 6, 8, 8, 9, 2, 30}\n",
    "len_ex_2=len(ex_set) # Remember, sets automatically throw away copies!\n",
    "print(ex_set) \n",
    "print(len_ex_2)\n",
    "print()\n",
    "\n",
    "# Length of a list\n",
    "ex_list_1=[2, 4, 40, 6, 8, 8, 9, 2, 30]\n",
    "len_ex_3=len(ex_list_1)\n",
    "print(ex_list_1)\n",
    "print(len_ex_3)"
   ]
  },
  {
   "cell_type": "markdown",
   "id": "d4793f7a",
   "metadata": {},
   "source": [
    "# set() and list()\n",
    "A clever way to count how many unique items there are in a list is to use the set() function to change the list into a set (which automatically removes copies), then change it back to a list with the list() function!"
   ]
  },
  {
   "cell_type": "code",
   "execution_count": null,
   "id": "1b3d3bd5",
   "metadata": {},
   "outputs": [],
   "source": [
    "ex_list_2=['alpha', 'bravo', 'tango', 'alpha', 'alpha', 'bravo']\n",
    "unique_list_2=list(set(ex_list_2)) # We see list takes in set(ex_list_2), so ex_list_2 is first turned into a set, then into a list\n",
    "print(unique_list_2)\n",
    "print(len(unique_list_2))"
   ]
  },
  {
   "cell_type": "markdown",
   "id": "d3066c8c",
   "metadata": {},
   "source": [
    "# range(m, n+1)\n",
    "This gives you a range of numbers starting from m and ending with n. It is a different type from list or set, but you can convert the range to a list with list(range(m, n+1)) or a set with set(range(m, n+1)). You can also use range(n+1) which assumes you want to start counting from 0. "
   ]
  },
  {
   "cell_type": "code",
   "execution_count": null,
   "id": "1bef8799",
   "metadata": {},
   "outputs": [],
   "source": [
    "ex_list_3=range(30) \n",
    "print(list(ex_list_3))\n",
    "print(len(ex_list_3))"
   ]
  },
  {
   "cell_type": "markdown",
   "id": "396d69b1",
   "metadata": {},
   "source": [
    "So range(30) gives us something with *length* 30 and stops at 29 since we start counting at 0."
   ]
  },
  {
   "cell_type": "code",
   "execution_count": null,
   "id": "b568b919",
   "metadata": {},
   "outputs": [],
   "source": [
    "ex_list_4=list(range(-10, 10))\n",
    "print(ex_list_4)\n",
    "print(len(ex_list_4))"
   ]
  }
 ],
 "metadata": {
  "kernelspec": {
   "display_name": "Python 3",
   "language": "python",
   "name": "python3"
  },
  "language_info": {
   "codemirror_mode": {
    "name": "ipython",
    "version": 3
   },
   "file_extension": ".py",
   "mimetype": "text/x-python",
   "name": "python",
   "nbconvert_exporter": "python",
   "pygments_lexer": "ipython3",
   "version": "3.11.3"
  }
 },
 "nbformat": 4,
 "nbformat_minor": 5
}
