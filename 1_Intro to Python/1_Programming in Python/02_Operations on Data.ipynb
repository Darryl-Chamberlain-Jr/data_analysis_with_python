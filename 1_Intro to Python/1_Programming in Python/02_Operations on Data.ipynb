{
 "cells": [
  {
   "cell_type": "markdown",
   "id": "ffbf5681",
   "metadata": {},
   "source": [
    "# Operations on Data Structures\n",
    "\n",
    "As we saw in our last example, we can perform arithmetic operations (add, subtract, multiply, divide) on numbers. What about on strings? Let's try a few different things. "
   ]
  },
  {
   "cell_type": "code",
   "execution_count": null,
   "id": "a7ff8492",
   "metadata": {},
   "outputs": [],
   "source": [
    "string_1='Hello '\n",
    "string_2='World'\n",
    "adding_strings=string_1 + string_2\n",
    "print(adding_strings) "
   ]
  },
  {
   "cell_type": "code",
   "execution_count": null,
   "id": "9b381e2c",
   "metadata": {},
   "outputs": [],
   "source": [
    "multiplying_strings=string_1*5\n",
    "print(multiplying_strings)"
   ]
  },
  {
   "cell_type": "code",
   "execution_count": null,
   "id": "9962e6b6",
   "metadata": {},
   "outputs": [],
   "source": [
    "string_number='5'\n",
    "print(string_number*6)"
   ]
  },
  {
   "cell_type": "markdown",
   "id": "053aa574",
   "metadata": {},
   "source": [
    "This last example should emphasize how knowing the type of the object we are working with is incredibly important! "
   ]
  },
  {
   "cell_type": "code",
   "execution_count": null,
   "id": "07139255",
   "metadata": {},
   "outputs": [],
   "source": [
    "divide_string=multiplying_strings / 5"
   ]
  },
  {
   "cell_type": "markdown",
   "id": "719e135a",
   "metadata": {},
   "source": [
    "Python doesn't understand what it means to divide a string and so we get an error."
   ]
  }
 ],
 "metadata": {
  "kernelspec": {
   "display_name": "Python 3",
   "language": "python",
   "name": "python3"
  },
  "language_info": {
   "codemirror_mode": {
    "name": "ipython",
    "version": 3
   },
   "file_extension": ".py",
   "mimetype": "text/x-python",
   "name": "python",
   "nbconvert_exporter": "python",
   "pygments_lexer": "ipython3",
   "version": "3.11.3"
  }
 },
 "nbformat": 4,
 "nbformat_minor": 5
}
