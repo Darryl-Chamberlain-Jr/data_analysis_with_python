{
 "cells": [
  {
   "attachments": {},
   "cell_type": "markdown",
   "id": "4087f184",
   "metadata": {},
   "source": [
    "# Overview of Python Operators\n",
    "**Logical Operators**\n",
    "- and: Returns True if both statements are True\n",
    "- or: Returns True if one statement is True\n",
    "- not: Reverse the truth value of a statement\n",
    "\n",
    "**Comparison Operators**\n",
    "- Inequalities: <, >, <=, >=\n",
    "- Equalities: == (equal) and != (not equal)\n",
    "\n",
    "**Identity Operators**\n",
    "- is: Two objects are the same object\n",
    "- is not: Two objects are not the same object\n",
    "\n",
    "**Membership Operators**\n",
    "- In: An object is in another\n",
    "- not in: An object is not in another"
   ]
  },
  {
   "attachments": {},
   "cell_type": "markdown",
   "id": "9f214ece",
   "metadata": {},
   "source": [
    "**What is the difference between == and is?**\n",
    "A subtle difference between two things having the same 'value' and actually being the same object. Let's check some examples to tease apart this difference. "
   ]
  },
  {
   "cell_type": "code",
   "execution_count": null,
   "id": "4f09661a",
   "metadata": {},
   "outputs": [],
   "source": [
    "var_1=1000\n",
    "var_2=1000\n",
    "\n",
    "print(var_1 == var_2)\n",
    "print(var_1 is var_2)"
   ]
  },
  {
   "attachments": {},
   "cell_type": "markdown",
   "id": "eea584b7",
   "metadata": {},
   "source": [
    "These are two different variables: var_1 and var_2. They both are assigned to be the value 1000 (and so they are equal) but they are two separate variables that live in separate places in the program. While there are use cases for 'is', it is unlikely you will need to use it in this course."
   ]
  },
  {
   "cell_type": "code",
   "execution_count": null,
   "id": "dd19fd9e",
   "metadata": {},
   "outputs": [],
   "source": [
    "# Logical Operator examples\n",
    "random_int = input('Type any integer.')\n",
    "if (type(random_int) == type(1)) and (int(random_int) > 0): # both conditions need to be true to get the print statement. Remember we need to convert our input string into an int for comparison.\n",
    "    print('You typed a positive integer!')\n",
    "\n",
    "if (type(random_int) == type(0.5)) or (type(random_int) == type('string')): # either condition could be true to get the print statement\n",
    "    print('Whoops! You typed a', type(random_int))"
   ]
  },
  {
   "cell_type": "code",
   "execution_count": null,
   "id": "d3e4526d",
   "metadata": {},
   "outputs": [],
   "source": [
    "# Membership operator - strings\n",
    "random_string=input('Type any string that has the word cool as part of the string. It can be its own word, part of another word like subcooled, or part of a sentence.')\n",
    "if (type(random_string) != type('string')):\n",
    "    print(\"Whoops! You didn't type a string.\")\n",
    "else:\n",
    "    if 'cool' in random_string:\n",
    "        print('The word \"cool\" is in your string. How cool!')"
   ]
  },
  {
   "cell_type": "code",
   "execution_count": null,
   "id": "88bed94f",
   "metadata": {},
   "outputs": [],
   "source": [
    "# Membership operator - sets\n",
    "random_number=input('Type any number, but my hidden set is a list of prime numbers below 20.')\n",
    "prime_set={2, 3, 5, 7, 11, 13, 17, 19}\n",
    "if (type(random_number) == type(0.5) or int(random_number) < 1):\n",
    "    print('Prime numbers are positive integers.')\n",
    "else: \n",
    "    if int(random_number) in prime_set:\n",
    "        print('Nice! Your number', random_number, 'was in the hidden set!')\n",
    "    else:\n",
    "        print('Too bad, your number', random_number, 'was not in the hidden set.')"
   ]
  }
 ],
 "metadata": {
  "kernelspec": {
   "display_name": "Python 3",
   "language": "python",
   "name": "python3"
  },
  "language_info": {
   "codemirror_mode": {
    "name": "ipython",
    "version": 3
   },
   "file_extension": ".py",
   "mimetype": "text/x-python",
   "name": "python",
   "nbconvert_exporter": "python",
   "pygments_lexer": "ipython3",
   "version": "3.13.0"
  }
 },
 "nbformat": 4,
 "nbformat_minor": 5
}
