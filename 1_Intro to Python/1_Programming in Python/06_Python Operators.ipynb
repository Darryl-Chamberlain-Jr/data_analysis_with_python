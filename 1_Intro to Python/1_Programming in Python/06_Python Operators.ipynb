{
 "cells": [
  {
   "attachments": {},
   "cell_type": "markdown",
   "id": "4087f184",
   "metadata": {},
   "source": [
    "# Overview of Python Operators\n",
    "**Logical Operators**\n",
    "- and: Returns True if both statements are True\n",
    "- or: Returns True if one statement is True\n",
    "- not: Reverse the truth value of a statement\n",
    "\n",
    "**Comparison Operators**\n",
    "- Inequalities: <, >, <=, >=\n",
    "- Equalities: == (equal) and != (not equal)\n",
    "\n",
    "**Identity Operators**\n",
    "- is: Two objects are the same object\n",
    "- is not: Two objects are not the same object\n",
    "\n",
    "**Membership Operators**\n",
    "- In: An object is in another\n",
    "- not in: An object is not in another"
   ]
  },
  {
   "attachments": {},
   "cell_type": "markdown",
   "id": "9f214ece",
   "metadata": {},
   "source": [
    "**What is the difference between == and is?**\n",
    "A subtle difference between two things having the same 'value' and actually being the same object. Let's check some examples to tease apart this difference. "
   ]
  },
  {
   "cell_type": "code",
   "execution_count": 1,
   "id": "4f09661a",
   "metadata": {},
   "outputs": [
    {
     "name": "stdout",
     "output_type": "stream",
     "text": [
      "True\n",
      "False\n"
     ]
    }
   ],
   "source": [
    "var_1=1000\n",
    "var_2=1000\n",
    "\n",
    "print(var_1 == var_2)\n",
    "print(var_1 is var_2)"
   ]
  },
  {
   "attachments": {},
   "cell_type": "markdown",
   "id": "eea584b7",
   "metadata": {},
   "source": [
    "These are two different variables: var_1 and var_2. They both are assigned to be the value 1000 (and so they are equal) but they are two separate variables that live in separate places in the program. While there are use cases for 'is', it is unlikely you will need to use it in this course."
   ]
  },
  {
   "attachments": {},
   "cell_type": "markdown",
   "id": "801a2d4e",
   "metadata": {},
   "source": [
    "# Conditional Statement 1: if-elif-else"
   ]
  },
  {
   "attachments": {},
   "cell_type": "markdown",
   "id": "d4c81a2e",
   "metadata": {},
   "source": [
    "We briefly covered how if-elif-else statements worked in the previous lesson. Let's look at a slightly more complicated example that brings in logical operators. \n",
    "\n",
    "In the United States, employees must provide documentation to their employers to show their identity and authorization to work (https://www.uscis.gov/i-9-central/form-i-9-acceptable-documents). These documents are part of the I-9 form. Employees can provide either 1 document from list A or a document from list B and a document from list C. \n",
    "\n",
    "Before looking below, think about how you would check this by hand. What are you looking for? What steps would you take?"
   ]
  },
  {
   "cell_type": "code",
   "execution_count": 2,
   "id": "4e40a991",
   "metadata": {},
   "outputs": [
    {
     "name": "stdout",
     "output_type": "stream",
     "text": [
      "What type of document are you submitting first? U.S. Passport\n",
      "Verdict: You have established identity and employment authorization.\n"
     ]
    }
   ],
   "source": [
    "# Establishes Identity and Employment Authorization\n",
    "list_A_documents=['U.S. Passport', \n",
    "                  'Permanent Resident Card', \n",
    "                  'Employment Authorization Document Card', \n",
    "                  'Foreign Passport with Endorsement to Work'\n",
    "                 ]\n",
    "\n",
    "# Establishes Identity\n",
    "list_B_documents=[\"Driver's License\"]\n",
    "\n",
    "# Establishes Employment Authorization\n",
    "list_C_documents=['Social Security Number',\n",
    "                  'Birth Certificate', \n",
    "                  'Certification of Birth Abroad', \n",
    "                  'Native American tribal document'\n",
    "                 ]\n",
    "\n",
    "first_document=input('What type of document are you submitting first? ')\n",
    "\n",
    "if first_document in list_A_documents:\n",
    "    print('Verdict: You have established identity and employment authorization.')\n",
    "    \n",
    "elif (first_document in list_B_documents) or (first_document in list_C_documents):\n",
    "    second_document=input('Please provide another document to establish both identity and employment authorization. ')\n",
    "    \n",
    "    # Two scenarios that give a document in both List B and List C\n",
    "    scenario_1=(first_document in list_B_documents) and (second_document in list_C_documents)\n",
    "    scenario_2=(first_document in list_C_documents) and (second_document in list_B_documents)\n",
    "    \n",
    "    if scenario_1 or scenario_2:\n",
    "        print()\n",
    "        print('Verdict: You have established identity and employment authorization.')\n",
    "        \n",
    "    else:\n",
    "        print()\n",
    "        print('Verdict: You have not established identity and employment authorization. Please try again.')\n",
    "\n",
    "else:\n",
    "    print('Verdict: Your document does not establish identity nor employment authorization. Please try again.')"
   ]
  },
  {
   "attachments": {},
   "cell_type": "markdown",
   "id": "2a431cb1",
   "metadata": {},
   "source": [
    "# Conditional Statement 2: for"
   ]
  },
  {
   "attachments": {},
   "cell_type": "markdown",
   "id": "b6cccd62",
   "metadata": {},
   "source": [
    "A 'for' loop is used when you want to work through a list or set of items one by one. Let's look at some examples. "
   ]
  },
  {
   "cell_type": "code",
   "execution_count": 3,
   "id": "907ea051",
   "metadata": {},
   "outputs": [
    {
     "name": "stdout",
     "output_type": "stream",
     "text": [
      "U.S. Passport\n",
      "Permanent Resident Card\n",
      "Employment Authorization Document Card\n",
      "Foreign Passport with Endorsement to Work\n"
     ]
    }
   ],
   "source": [
    "for document in list_A_documents:\n",
    "    print(document)\n",
    "    \n",
    "# If you get an error, make sure you run the cell above"
   ]
  },
  {
   "cell_type": "code",
   "execution_count": 5,
   "id": "af001dbc",
   "metadata": {},
   "outputs": [
    {
     "name": "stdout",
     "output_type": "stream",
     "text": [
      "U.S. Passport\n",
      "Permanent Resident Card\n",
      "Employment Authorization Document Card\n",
      "Foreign Passport with Endorsement to Work\n",
      "Driver's License\n",
      "Social Security Number\n",
      "Birth Certificate\n",
      "Certification of Birth Abroad\n",
      "Native American tribal document\n"
     ]
    }
   ],
   "source": [
    "for list_of_documents in [list_A_documents, list_B_documents, list_C_documents]:\n",
    "    for document in list_of_documents:\n",
    "        print(document)"
   ]
  },
  {
   "cell_type": "code",
   "execution_count": 7,
   "id": "318e14d6",
   "metadata": {},
   "outputs": [
    {
     "name": "stdout",
     "output_type": "stream",
     "text": [
      "Value: 0\n",
      "Running Total: 0\n",
      "Value: 1\n",
      "Running Total: 1\n",
      "Value: 2\n",
      "Running Total: 3\n",
      "Value: 3\n",
      "Running Total: 6\n",
      "Value: 4\n",
      "Running Total: 10\n",
      "Value: 5\n",
      "Running Total: 15\n",
      "Value: 6\n",
      "Running Total: 21\n",
      "Value: 7\n",
      "Running Total: 28\n",
      "Value: 8\n",
      "Running Total: 36\n",
      "Value: 9\n",
      "Running Total: 45\n",
      "Value: 10\n",
      "Running Total: 55\n",
      "Final total 55\n"
     ]
    }
   ],
   "source": [
    "total_sum=0\n",
    "# range(a, b) includes a and stops before b\n",
    "for value in range(0, 11):\n",
    "    print('Value:', value)\n",
    "    total_sum=total_sum+value\n",
    "    print('Running Total:', total_sum)\n",
    "\n",
    "print('Final total', total_sum)"
   ]
  },
  {
   "attachments": {},
   "cell_type": "markdown",
   "id": "79100160",
   "metadata": {},
   "source": [
    "# Conditional Statement 3: while"
   ]
  },
  {
   "attachments": {},
   "cell_type": "markdown",
   "id": "22907942",
   "metadata": {},
   "source": [
    "A 'while' loop is used when you want to work through something, you are unsure how many times will be necessary, but you know the condition that will stop the work. Let's look at some examples."
   ]
  },
  {
   "cell_type": "code",
   "execution_count": 8,
   "id": "92104dd7",
   "metadata": {},
   "outputs": [
    {
     "name": "stdout",
     "output_type": "stream",
     "text": [
      "3\n",
      "6\n",
      "9\n",
      "12\n",
      "15\n",
      "18\n",
      "21\n",
      "24\n",
      "27\n",
      "30\n",
      "33\n",
      "36\n",
      "39\n",
      "42\n",
      "45\n",
      "48\n",
      "51\n",
      "54\n",
      "57\n",
      "60\n",
      "63\n",
      "66\n",
      "69\n",
      "72\n",
      "72\n"
     ]
    }
   ],
   "source": [
    "final_grade=0\n",
    "\n",
    "while final_grade < 70:\n",
    "    hw_credit=3\n",
    "    final_grade=final_grade+hw_credit\n",
    "    print(final_grade)\n",
    "\n",
    "print(final_grade)"
   ]
  },
  {
   "cell_type": "code",
   "execution_count": 12,
   "id": "754e5948",
   "metadata": {},
   "outputs": [
    {
     "name": "stdout",
     "output_type": "stream",
     "text": [
      "Type any integer larger than 0. 100658\n"
     ]
    }
   ],
   "source": [
    "while True:\n",
    "    user_number=int(input('Type any integer larger than 0. '))\n",
    "    if user_number > 0:\n",
    "        break"
   ]
  },
  {
   "cell_type": "code",
   "execution_count": 13,
   "id": "b88d5a32",
   "metadata": {},
   "outputs": [
    {
     "name": "stdout",
     "output_type": "stream",
     "text": [
      "Your number is  100658\n"
     ]
    }
   ],
   "source": [
    "checking_for_user_number=0\n",
    "while True:\n",
    "    checking_for_user_number+=1\n",
    "    if user_number==checking_for_user_number:\n",
    "        break\n",
    "print('Your number is ', checking_for_user_number)\n",
    "\n",
    "# If you get an error, make sure you input a valid number in the cell above."
   ]
  }
 ],
 "metadata": {
  "kernelspec": {
   "display_name": "Python 3 (ipykernel)",
   "language": "python",
   "name": "python3"
  },
  "language_info": {
   "codemirror_mode": {
    "name": "ipython",
    "version": 3
   },
   "file_extension": ".py",
   "mimetype": "text/x-python",
   "name": "python",
   "nbconvert_exporter": "python",
   "pygments_lexer": "ipython3",
   "version": "3.11.3"
  }
 },
 "nbformat": 4,
 "nbformat_minor": 5
}
