{
 "cells": [
  {
   "attachments": {},
   "cell_type": "markdown",
   "id": "2a431cb1",
   "metadata": {},
   "source": [
    "# Conditional Statement 2: for"
   ]
  },
  {
   "attachments": {},
   "cell_type": "markdown",
   "id": "b6cccd62",
   "metadata": {},
   "source": [
    "A 'for' loop is used when you want to work through a list or set of items one by one. Let's look at some examples. "
   ]
  },
  {
   "cell_type": "code",
   "execution_count": 2,
   "id": "c80a344c",
   "metadata": {},
   "outputs": [],
   "source": [
    "# Lists for conditional example\n",
    "\n",
    "# Establishes Identity and Employment Authorization\n",
    "list_A_documents=['U.S. Passport', \n",
    "                  'Permanent Resident Card', \n",
    "                  'Employment Authorization Document Card', \n",
    "                  'Foreign Passport with Endorsement to Work'\n",
    "                 ]\n",
    "\n",
    "# Establishes Identity\n",
    "list_B_documents=[\"Driver's License\"]\n",
    "\n",
    "# Establishes Employment Authorization\n",
    "list_C_documents=['Social Security Number',\n",
    "                  'Birth Certificate', \n",
    "                  'Certification of Birth Abroad', \n",
    "                  'Native American tribal document'\n",
    "                 ]"
   ]
  },
  {
   "cell_type": "code",
   "execution_count": null,
   "id": "907ea051",
   "metadata": {},
   "outputs": [],
   "source": [
    "for document in list_A_documents:\n",
    "    print(document)\n",
    "    \n",
    "# If you get an error, make sure you run the cell above"
   ]
  },
  {
   "cell_type": "code",
   "execution_count": null,
   "id": "af001dbc",
   "metadata": {},
   "outputs": [],
   "source": [
    "for list_of_documents in [list_A_documents, list_B_documents, list_C_documents]:\n",
    "    print('Start unpacking', list_of_documents)\n",
    "    for document in list_of_documents: # This unpacks all the items in 'document'\n",
    "        print(document)\n",
    "    print() # Print a blank space for our readability"
   ]
  },
  {
   "cell_type": "code",
   "execution_count": null,
   "id": "318e14d6",
   "metadata": {},
   "outputs": [],
   "source": [
    "total_sum=0\n",
    "\n",
    "for value in range(0, 5): # range(m, n+1) includes m and stops at n\n",
    "    print('Value:', value)\n",
    "    total_sum=total_sum+value\n",
    "    print('Running Total:', total_sum)\n",
    "    print()\n",
    "\n",
    "print('Final total:', total_sum)"
   ]
  }
 ],
 "metadata": {
  "kernelspec": {
   "display_name": "Python 3",
   "language": "python",
   "name": "python3"
  },
  "language_info": {
   "codemirror_mode": {
    "name": "ipython",
    "version": 3
   },
   "file_extension": ".py",
   "mimetype": "text/x-python",
   "name": "python",
   "nbconvert_exporter": "python",
   "pygments_lexer": "ipython3",
   "version": "3.13.0"
  }
 },
 "nbformat": 4,
 "nbformat_minor": 5
}
