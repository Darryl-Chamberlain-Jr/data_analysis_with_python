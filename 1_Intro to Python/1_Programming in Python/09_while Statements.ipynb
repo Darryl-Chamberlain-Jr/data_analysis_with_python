{
 "cells": [
  {
   "attachments": {},
   "cell_type": "markdown",
   "id": "79100160",
   "metadata": {},
   "source": [
    "# Conditional Statement 3: while"
   ]
  },
  {
   "attachments": {},
   "cell_type": "markdown",
   "id": "22907942",
   "metadata": {},
   "source": [
    "A 'while' loop is used when you want to work through something, you are unsure how many times will be necessary, but you know the condition that will stop the work. Let's look at some examples."
   ]
  },
  {
   "cell_type": "code",
   "execution_count": null,
   "id": "92104dd7",
   "metadata": {},
   "outputs": [],
   "source": [
    "final_grade=0\n",
    "\n",
    "while final_grade < 70:\n",
    "    hw_credit=3\n",
    "    final_grade=final_grade+hw_credit # We read this as 'take final_grade + hw_credit and define this as final_grade\n",
    "    print(final_grade)\n",
    "print('Final grade is now', final_grade)"
   ]
  },
  {
   "cell_type": "code",
   "execution_count": null,
   "id": "0f5c8407",
   "metadata": {},
   "outputs": [],
   "source": [
    "# What if we wanted to keep track of how many times we went through the while loop? \n",
    "# If this errors, be sure to type an integer since we aren't correcting for wrong inputs\n",
    "final_grade=int(input('Type any integer between 0 and 100.'))\n",
    "cycle_counter=0\n",
    "\n",
    "while final_grade < 70:\n",
    "    cycle_counter+=1 # This is a shortcut way of writing cycle_counter=cycle_counter+1\n",
    "    hw_credit=3\n",
    "    final_grade+=hw_credit # We can even take the shortcut with variables\n",
    "\n",
    "print('Final grade is now', final_grade)\n",
    "print('It took', cycle_counter, 'cycles of hw extra credit to pass.')"
   ]
  },
  {
   "cell_type": "code",
   "execution_count": 6,
   "id": "754e5948",
   "metadata": {},
   "outputs": [],
   "source": [
    "while True: # Runs until a 'break' condition occurs\n",
    "    user_number=int(input('Type any integer larger than 0. ')) # Notice how it keeps asking us for a new number\n",
    "    if user_number > 0:\n",
    "        break"
   ]
  },
  {
   "cell_type": "code",
   "execution_count": null,
   "id": "b88d5a32",
   "metadata": {},
   "outputs": [],
   "source": [
    "checking_for_user_number=0\n",
    "while True:\n",
    "    checking_for_user_number+=1\n",
    "    if user_number==checking_for_user_number: # user_number is an input from the cell above\n",
    "        break\n",
    "print('Your number is', checking_for_user_number)\n",
    "\n",
    "# If you get an error, make sure you input a valid number in the cell above."
   ]
  }
 ],
 "metadata": {
  "kernelspec": {
   "display_name": "Python 3",
   "language": "python",
   "name": "python3"
  },
  "language_info": {
   "codemirror_mode": {
    "name": "ipython",
    "version": 3
   },
   "file_extension": ".py",
   "mimetype": "text/x-python",
   "name": "python",
   "nbconvert_exporter": "python",
   "pygments_lexer": "ipython3",
   "version": "3.13.0"
  }
 },
 "nbformat": 4,
 "nbformat_minor": 5
}
