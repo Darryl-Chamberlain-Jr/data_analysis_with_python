{
 "cells": [
  {
   "cell_type": "markdown",
   "id": "8f7cc192",
   "metadata": {},
   "source": [
    "# TypeErrors"
   ]
  },
  {
   "cell_type": "markdown",
   "id": "5745b941",
   "metadata": {},
   "source": [
    "When something goes wrong in code, Python will try to communicate what happened. It will provide a line, the error type, and some brief description. There are **many** error types (https://docs.python.org/3/library/exceptions.html). No need to memorize them -- you'll become familiar with the ones you see the most. Let's see an extremely common example: SyntaxError."
   ]
  },
  {
   "cell_type": "code",
   "execution_count": null,
   "id": "dc621089",
   "metadata": {},
   "outputs": [],
   "source": [
    "print \"I meant to do that\""
   ]
  },
  {
   "cell_type": "markdown",
   "id": "a92eaee3",
   "metadata": {},
   "source": [
    "With try-except-finally, we can make an exception to do something special if a certain error type occurs."
   ]
  },
  {
   "cell_type": "code",
   "execution_count": null,
   "id": "05a10701",
   "metadata": {},
   "outputs": [],
   "source": [
    "# Can we catch this error?\n",
    "try: \n",
    "    print \"I meant to do that\"\n",
    "except SyntaxError:\n",
    "    print(\"Phew. Looks like I caught it.\")\n",
    "finally:\n",
    "    print(\"At least the code finished.\")"
   ]
  },
  {
   "cell_type": "markdown",
   "id": "4b9eae1a",
   "metadata": {},
   "source": [
    "Okay, another example."
   ]
  },
  {
   "cell_type": "code",
   "execution_count": null,
   "id": "de0faecd",
   "metadata": {},
   "outputs": [],
   "source": [
    "# Shift+Tab will de-indent\n",
    "\n",
    "print(\"Let's divide two numbers.\")\n",
    "num_1=int(input('Type any integer: '))\n",
    "num_2=int(input('Type 0: '))\n",
    "div_num_1_and_2=num_1/num_2"
   ]
  },
  {
   "cell_type": "code",
   "execution_count": null,
   "id": "27d6a6a1",
   "metadata": {},
   "outputs": [],
   "source": [
    "try:\n",
    "    print(\"Let's divide two numbers.\")\n",
    "    num_1=int(input('Type any integer: '))\n",
    "    num_2=int(input('Type 0: '))\n",
    "    div_num_1_and_2=num_1/num_2\n",
    "    \n",
    "except ZeroDivisionError: \n",
    "    print(\"I didn't really mean to divide by 0 -- I know better!\")\n",
    "    while True:\n",
    "        num_2=int(input('Type any nonzero integer: '))\n",
    "        if num_2 != 0:\n",
    "            break\n",
    "finally:\n",
    "    div_num_1_and_2=num_1/num_2\n",
    "    print()\n",
    "    print(f'Result: {num_1}/{num_2}={div_num_1_and_2}')"
   ]
  }
 ],
 "metadata": {
  "kernelspec": {
   "display_name": "Python 3 (ipykernel)",
   "language": "python",
   "name": "python3"
  },
  "language_info": {
   "codemirror_mode": {
    "name": "ipython",
    "version": 3
   },
   "file_extension": ".py",
   "mimetype": "text/x-python",
   "name": "python",
   "nbconvert_exporter": "python",
   "pygments_lexer": "ipython3",
   "version": "3.11.3"
  }
 },
 "nbformat": 4,
 "nbformat_minor": 5
}
