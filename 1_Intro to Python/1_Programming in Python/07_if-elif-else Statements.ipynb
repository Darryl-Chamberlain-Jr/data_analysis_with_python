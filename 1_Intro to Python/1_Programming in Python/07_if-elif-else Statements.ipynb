{
 "cells": [
  {
   "attachments": {},
   "cell_type": "markdown",
   "id": "801a2d4e",
   "metadata": {},
   "source": [
    "# Conditional Statement 1: if-elif-else"
   ]
  },
  {
   "attachments": {},
   "cell_type": "markdown",
   "id": "d4c81a2e",
   "metadata": {},
   "source": [
    "We briefly covered how if-elif-else statements worked in the previous lesson. Let's look at a slightly more complicated example that brings in logical operators. \n",
    "\n",
    "In the United States, employees must provide documentation to their employers to show their identity and authorization to work (https://www.uscis.gov/i-9-central/form-i-9-acceptable-documents). These documents are part of the I-9 form. Employees can provide either 1 document from list A or a document from list B and a document from list C. \n",
    "\n",
    "Before looking below, think about how you would check this by hand. What are you looking for? What steps would you take?"
   ]
  },
  {
   "cell_type": "code",
   "execution_count": null,
   "id": "4e40a991",
   "metadata": {},
   "outputs": [],
   "source": [
    "# Establishes Identity and Employment Authorization\n",
    "list_A_documents=['U.S. Passport', \n",
    "                  'Permanent Resident Card', \n",
    "                  'Employment Authorization Document Card', \n",
    "                  'Foreign Passport with Endorsement to Work'\n",
    "                 ]\n",
    "\n",
    "# Establishes Identity\n",
    "list_B_documents=[\"Driver's License\"]\n",
    "\n",
    "# Establishes Employment Authorization\n",
    "list_C_documents=['Social Security Number',\n",
    "                  'Birth Certificate', \n",
    "                  'Certification of Birth Abroad', \n",
    "                  'Native American tribal document'\n",
    "                 ]\n",
    "\n",
    "first_document=input('What type of document are you submitting first? ')\n",
    "\n",
    "if first_document in list_A_documents:\n",
    "    print('Verdict: You have established identity and employment authorization.')\n",
    "    \n",
    "elif (first_document in list_B_documents) or (first_document in list_C_documents):\n",
    "    second_document=input('Please provide another document to establish both identity and employment authorization. ')\n",
    "    \n",
    "    # Two scenarios that give a document in both List B and List C\n",
    "    scenario_1=(first_document in list_B_documents) and (second_document in list_C_documents)\n",
    "    scenario_2=(first_document in list_C_documents) and (second_document in list_B_documents)\n",
    "    \n",
    "    if scenario_1 or scenario_2:\n",
    "        print()\n",
    "        print('Verdict: You have established identity and employment authorization.')\n",
    "        \n",
    "    else:\n",
    "        print()\n",
    "        print('Verdict: You have not established identity and employment authorization. Please try again.')\n",
    "\n",
    "else:\n",
    "    print('Verdict: Your document does not establish identity nor employment authorization. Please try again.')"
   ]
  }
 ],
 "metadata": {
  "kernelspec": {
   "display_name": "Python 3 (ipykernel)",
   "language": "python",
   "name": "python3"
  },
  "language_info": {
   "codemirror_mode": {
    "name": "ipython",
    "version": 3
   },
   "file_extension": ".py",
   "mimetype": "text/x-python",
   "name": "python",
   "nbconvert_exporter": "python",
   "pygments_lexer": "ipython3",
   "version": "3.11.3"
  }
 },
 "nbformat": 4,
 "nbformat_minor": 5
}
